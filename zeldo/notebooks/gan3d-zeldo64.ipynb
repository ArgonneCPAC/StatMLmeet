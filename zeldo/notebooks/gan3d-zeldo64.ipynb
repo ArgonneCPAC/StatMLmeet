{
 "cells": [
  {
   "cell_type": "markdown",
   "metadata": {
    "colab_type": "text",
    "id": "rF2x3qooyBTI"
   },
   "source": [
    "# 3D Deep Convolutional Generative Adversarial Network for Zeldovich Universe"
   ]
  },
  {
   "cell_type": "code",
   "execution_count": null,
   "metadata": {
    "colab": {},
    "colab_type": "code",
    "id": "WZKbyU2-AiY-"
   },
   "outputs": [],
   "source": [
    "import tensorflow as tf"
   ]
  },
  {
   "cell_type": "code",
   "execution_count": null,
   "metadata": {
    "colab": {},
    "colab_type": "code",
    "id": "wx-zNbLqB4K8"
   },
   "outputs": [],
   "source": [
    "tf.__version__"
   ]
  },
  {
   "cell_type": "code",
   "execution_count": null,
   "metadata": {
    "colab": {},
    "colab_type": "code",
    "id": "YzTlj4YdCip_"
   },
   "outputs": [],
   "source": [
    "# To generate GIFs\n",
    "# !pip install -q imageio"
   ]
  },
  {
   "cell_type": "code",
   "execution_count": null,
   "metadata": {
    "colab": {},
    "colab_type": "code",
    "id": "YfIk2es3hJEd"
   },
   "outputs": [],
   "source": [
    "import glob\n",
    "import imageio\n",
    "# import matplotlib.pyplot as plt\n",
    "import numpy as np\n",
    "import os\n",
    "import PIL\n",
    "from tensorflow.keras import layers\n",
    "import time\n",
    "import matplotlib.pylab as plt\n",
    "\n",
    "from IPython import display\n",
    "\n",
    "from tensorflow.keras import backend as K\n",
    "K.set_floatx('float32')"
   ]
  },
  {
   "cell_type": "markdown",
   "metadata": {
    "colab_type": "text",
    "id": "iYn4MdZnKCey"
   },
   "source": [
    "### Load and prepare the dataset\n",
    "\n",
    "You will use the ZA dataset to train the generator and the discriminator. "
   ]
  },
  {
   "cell_type": "code",
   "execution_count": null,
   "metadata": {
    "colab": {},
    "colab_type": "code",
    "id": "a4fYMGxGhrna"
   },
   "outputs": [],
   "source": [
    "import h5py\n",
    "\n",
    "nGrid = 64\n",
    "\n",
    "class zeldo_data:\n",
    "    def load_data():\n",
    "\n",
    "        z = 50\n",
    "        hdf5_path = \"../data/z\" + str(z)+\"_100.hdf5\"\n",
    "        hdf5_file = h5py.File(hdf5_path, mode='r')\n",
    "        sim_z50 = hdf5_file[\"sims_z\" + str(z)]\n",
    "        \n",
    "        z = 0\n",
    "        hdf5_path = \"../data/z\" + str(z)+\"_100.hdf5\"\n",
    "        hdf5_file = h5py.File(hdf5_path, mode='r')\n",
    "        sim_z0 = hdf5_file[\"sims_z\" + str(z)]\n",
    "     \n",
    "        train_test_split = 0.96\n",
    "        split = np.int(train_test_split*sim_z0.shape[0])\n",
    "        \n",
    "        train_data = sim_z0[0:split, :, :, :].astype('float32')\n",
    "        train_target = sim_z50[0:split, :, :, :].astype('float32')\n",
    "        test_data = sim_z0[split:, :, :, :].astype('float32')\n",
    "        test_target = sim_z50[split:, :, :, :].astype('float32')\n",
    "        \n",
    "#         train_data = np.expand_dims(train_data, 0)\n",
    "#         test_data = np.expand_dims(test_data, 0)\n",
    "        \n",
    "        \n",
    "        return (train_data[:, :nGrid, :nGrid, :nGrid], train_target[:, :nGrid, :nGrid, :nGrid]), (test_data[:, :nGrid, :nGrid, :nGrid], test_target[:, :nGrid, :nGrid, :nGrid])\n",
    "    \n",
    "    \n",
    "(train_images, _), (test_images, _) = zeldo_data.load_data()\n",
    "print(train_images.shape)"
   ]
  },
  {
   "cell_type": "code",
   "execution_count": null,
   "metadata": {},
   "outputs": [],
   "source": [
    "# RESCALING IMAGES\n",
    "tmin = train_images.min()\n",
    "tmax = train_images.max()\n",
    "print(tmin, tmax)\n",
    "train_images = (train_images - tmin) / (tmax - tmin) # Normalize the images to [-1, 1]\n",
    "test_images = (test_images - tmin) / (tmax - tmin)\n",
    "print(train_images.min(), train_images.max())"
   ]
  },
  {
   "cell_type": "code",
   "execution_count": null,
   "metadata": {},
   "outputs": [],
   "source": [
    "def rotateit(image, theta, isseg=False):\n",
    "    order = 0 if isseg == True else 5\n",
    "    return rotate(image, float(theta), reshape=False, order=order, mode='nearest')"
   ]
  },
  {
   "cell_type": "code",
   "execution_count": null,
   "metadata": {},
   "outputs": [],
   "source": [
    "# augment = True\n",
    "# if augment:\n",
    "    "
   ]
  },
  {
   "cell_type": "code",
   "execution_count": null,
   "metadata": {},
   "outputs": [],
   "source": [
    "ifPlotTrain = True\n",
    "\n",
    "if ifPlotTrain:\n",
    "    slice = 32\n",
    "    simID = 43\n",
    "    fig, ax = plt.subplots(2, 3, figsize = (16,  10))\n",
    "    ax[0, 0].imshow(train_images[simID, slice, :, :], cmap='gray_r')\n",
    "    ax[0, 1].imshow(train_images[simID, :, slice, :], cmap='gray_r')\n",
    "    ax[0, 2].imshow(train_images[simID, :, :, slice], cmap='gray_r')\n",
    "\n",
    "    ax[1, 0].imshow(train_images[simID-10, slice, :, :], cmap='gray_r')\n",
    "    ax[1, 1].imshow(train_images[simID-10, :, slice, :], cmap='gray_r')\n",
    "    ax[1, 2].imshow(train_images[simID-10, :, :, slice], cmap='gray_r')\n",
    "\n",
    "    ax[1, 0].set_xlabel('X ($h^{-1}$ Mpc)',fontsize=30)\n",
    "    ax[1, 1].set_xlabel('Y ($h^{-1}$ Mpc)', fontsize=30)\n",
    "    ax[1, 2].set_xlabel('Z ($h^{-1}$ Mpc)', fontsize=30)\n",
    "\n",
    "    ax[0, 0].set_ylabel('z = 0,' + ' sim = ' + str(simID), rotation=0, fontsize=30, labelpad=120, color = 'r')\n",
    "    ax[1, 0].set_ylabel('z = 0,' + ' sim = ' + str(simID-10), rotation=0, fontsize=30, labelpad=120, color = 'r')\n",
    "\n",
    "\n",
    "    plt.savefig('zeldo_snaps.png')\n",
    "    plt.tight_layout()\n",
    "    plt.show()"
   ]
  },
  {
   "cell_type": "code",
   "execution_count": null,
   "metadata": {
    "colab": {},
    "colab_type": "code",
    "id": "NFC2ghIdiZYE"
   },
   "outputs": [],
   "source": []
  },
  {
   "cell_type": "code",
   "execution_count": null,
   "metadata": {
    "colab": {},
    "colab_type": "code",
    "id": "S4PIDhoDLbsZ"
   },
   "outputs": [],
   "source": [
    "BUFFER_SIZE = 90\n",
    "BATCH_SIZE = 32\n",
    "lr_generator = 1e-4\n",
    "lr_discriminator = 1e-4\n",
    "EPOCHS = 100\n",
    "noise_dim = 64\n",
    "num_examples_to_generate = 1"
   ]
  },
  {
   "cell_type": "code",
   "execution_count": null,
   "metadata": {
    "colab": {},
    "colab_type": "code",
    "id": "-yKCCQOoJ7cn"
   },
   "outputs": [],
   "source": [
    "# Batch and shuffle the data\n",
    "train_dataset = tf.data.Dataset.from_tensor_slices(train_images).shuffle(BUFFER_SIZE).batch(BATCH_SIZE)"
   ]
  },
  {
   "cell_type": "markdown",
   "metadata": {
    "colab_type": "text",
    "id": "-tEyxE-GMC48"
   },
   "source": [
    "### The Generator\n",
    "\n",
    "The generator uses `tf.keras.layers.Conv2DTranspose` (upsampling) layers to produce an image from a seed (random noise). Start with a `Dense` layer that takes this seed as input, then upsample several times until you reach the desired image size of 28x28x1. Notice the `tf.keras.layers.LeakyReLU` activation for each layer, except the output layer which uses tanh."
   ]
  },
  {
   "cell_type": "code",
   "execution_count": null,
   "metadata": {
    "colab": {},
    "colab_type": "code",
    "id": "6bpTcDqoLWjY"
   },
   "outputs": [],
   "source": [
    "# def make_generator_model():\n",
    "#     model = tf.keras.Sequential()\n",
    "#     model.add(layers.Dense(4*4*4*2, use_bias=False, input_shape=(noise_dim,)))\n",
    "#     model.add(layers.BatchNormalization())\n",
    "#     model.add(layers.LeakyReLU())\n",
    "\n",
    "#     model.add(layers.Reshape((4, 4, 4, 2)))\n",
    "#     assert model.output_shape == (None, 4, 4, 4, 2) # Note: None is the batch size\n",
    "\n",
    "# #     model.add(layers.Conv2DTranspose(128, (5, 5), strides=(1, 1), padding='same', use_bias=False))\n",
    "#     model.add(tf.keras.layers.Conv3DTranspose(8, (4, 4, 4), strides=(1, 1, 1), padding='same', use_bias=False) )\n",
    "#     assert model.output_shape == (None, 4, 4, 4, 8)\n",
    "#     model.add(layers.BatchNormalization())\n",
    "#     model.add(layers.LeakyReLU())\n",
    "\n",
    "# #     model.add(layers.Conv2DTranspose(64, (5, 5), strides=(2, 2), padding='same', use_bias=False))\n",
    "#     model.add(tf.keras.layers.Conv3DTranspose(16, (4, 4, 4), strides=(2, 2, 2), padding='same', use_bias=False) )\n",
    "#     assert model.output_shape == (None, 8, 8, 8, 16)\n",
    "#     model.add(layers.BatchNormalization())\n",
    "#     model.add(layers.LeakyReLU())\n",
    "    \n",
    "#     model.add(tf.keras.layers.Conv3DTranspose(16, (4, 4, 4), strides=(2, 2, 2), padding='same', use_bias=False) )\n",
    "#     assert model.output_shape == (None, 16, 16, 16, 16)\n",
    "#     model.add(layers.BatchNormalization())\n",
    "#     model.add(layers.LeakyReLU())\n",
    "    \n",
    "#     model.add(tf.keras.layers.Conv3DTranspose(16, (4, 4, 4), strides=(2, 2, 2), padding='same', use_bias=False) )\n",
    "#     assert model.output_shape == (None, 32, 32, 32, 16)\n",
    "#     model.add(layers.BatchNormalization())\n",
    "#     model.add(layers.LeakyReLU())\n",
    "\n",
    "# #     model.add(layers.Conv2DTranspose(1, (5, 5), strides=(2, 2), padding='same', use_bias=False, activation='tanh'))\n",
    "#     model.add(tf.keras.layers.Conv3DTranspose(1, (2, 2, 2), strides=(2, 2, 2), padding='same', use_bias=False, activation='tanh') )\n",
    "#     assert model.output_shape == (None, 64, 64, 64, 1)\n",
    "\n",
    "#     return model"
   ]
  },
  {
   "cell_type": "code",
   "execution_count": null,
   "metadata": {},
   "outputs": [],
   "source": [
    "def make_generator_model():\n",
    "    model = tf.keras.Sequential()\n",
    "    \n",
    "    model.add(layers.Dense(512, use_bias=False, input_shape=(noise_dim,)))\n",
    "    model.add(layers.BatchNormalization())\n",
    "    model.add(layers.LeakyReLU())\n",
    "    \n",
    "#     model.add(layers.Dense(512, use_bias=False))\n",
    "#     model.add(layers.BatchNormalization())\n",
    "#     model.add(layers.LeakyReLU())\n",
    "    \n",
    "    model.add(layers.Dense(8*8*8*2, use_bias=False))\n",
    "    model.add(layers.BatchNormalization())\n",
    "    model.add(layers.LeakyReLU())\n",
    "\n",
    "    model.add(layers.Reshape((8, 8, 8, 2)))\n",
    "    assert model.output_shape == (None, 8, 8, 8, 2) # Note: None is the batch size\n",
    "\n",
    "#     model.add(layers.Conv2DTranspose(128, (5, 5), strides=(1, 1), padding='same', use_bias=False))\n",
    "#     model.add(tf.keras.layers.Conv3DTranspose(32, (31, 31, 31), strides=(2, 2, 2), padding='same', use_bias=False) )\n",
    "    model.add(tf.keras.layers.Conv3DTranspose(128, (11, 11, 11), strides=(2, 2, 2), padding='same', use_bias=False) )\n",
    "    assert model.output_shape == (None, 16, 16, 16, 128)\n",
    "    model.add(layers.BatchNormalization())\n",
    "    model.add(layers.LeakyReLU())\n",
    "\n",
    "#     model.add(tf.keras.layers.Conv3DTranspose(16, (4, 4, 4), strides=(2, 2, 2), padding='same', use_bias=False) )\n",
    "#     assert model.output_shape == (None, 8, 8, 8, 16)\n",
    "#     model.add(layers.BatchNormalization())\n",
    "#     model.add(layers.LeakyReLU())\n",
    "    \n",
    "#     model.add(tf.keras.layers.Conv3DTranspose(16, (4, 4, 4), strides=(2, 2, 2), padding='same', use_bias=False) )\n",
    "#     assert model.output_shape == (None, 16, 16, 16, 16)\n",
    "#     model.add(layers.BatchNormalization())\n",
    "#     model.add(layers.LeakyReLU())\n",
    "    \n",
    "    model.add(tf.keras.layers.Conv3DTranspose(64, (7, 7, 7), strides=(2, 2, 2), padding='same', use_bias=False) )\n",
    "    assert model.output_shape == (None, 32, 32, 32, 64)\n",
    "    model.add(layers.BatchNormalization())\n",
    "    model.add(layers.LeakyReLU())\n",
    "\n",
    "#     model.add(layers.Conv2DTranspose(1, (5, 5), strides=(2, 2), padding='same', use_bias=False, activation='tanh'))\n",
    "    model.add(tf.keras.layers.Conv3DTranspose(1, (5, 5, 5), strides=(2, 2, 2), padding='same', use_bias=False, activation='tanh') )\n",
    "    assert model.output_shape == (None, 64, 64, 64, 1)\n",
    "\n",
    "    return model"
   ]
  },
  {
   "cell_type": "markdown",
   "metadata": {
    "colab_type": "text",
    "id": "GyWgG09LCSJl"
   },
   "source": [
    "Use the (as yet untrained) generator to create an image."
   ]
  },
  {
   "cell_type": "code",
   "execution_count": null,
   "metadata": {
    "colab": {},
    "colab_type": "code",
    "id": "gl7jcC7TdPTG"
   },
   "outputs": [],
   "source": [
    "generator = make_generator_model()\n",
    "\n",
    "noise = tf.random.normal([1, noise_dim])\n",
    "generated_image = generator(noise, training=False)\n",
    "\n",
    "plt.figure(figsize=(8,8))\n",
    "plt.imshow(np.array(generated_image[0, :, :, slice, 0]), cmap='gray_r')"
   ]
  },
  {
   "cell_type": "code",
   "execution_count": null,
   "metadata": {},
   "outputs": [],
   "source": [
    "print(np.min(noise), np.max(noise))\n",
    "print(np.min(generated_image), np.max(generated_image))"
   ]
  },
  {
   "cell_type": "markdown",
   "metadata": {
    "colab_type": "text",
    "id": "D0IKnaCtg6WE"
   },
   "source": [
    "### The Discriminator\n",
    "\n",
    "The discriminator is a CNN-based image classifier."
   ]
  },
  {
   "cell_type": "code",
   "execution_count": null,
   "metadata": {
    "colab": {},
    "colab_type": "code",
    "id": "dw2tPLmk2pEP"
   },
   "outputs": [],
   "source": [
    "def make_discriminator_model():\n",
    "    model = tf.keras.Sequential()\n",
    "    model.add(layers.Conv3D(128, (13, 13, 13), strides=(2, 2, 2), padding='same', input_shape=(64, 64, 64, 1)) )\n",
    "    model.add(layers.LeakyReLU())\n",
    "    model.add(layers.Dropout(0.3))\n",
    "    \n",
    "#     model.add(layers.Conv3D(128, (5, 5, 5), strides=(2, 2, 2), padding='same') )\n",
    "#     model.add(layers.LeakyReLU())\n",
    "#     model.add(layers.Dropout(0.3))\n",
    "    \n",
    "#     model.add(layers.Conv3D(32, (4, 4, 4), strides=(2, 2, 2), padding='same') )\n",
    "#     model.add(layers.LeakyReLU())\n",
    "#     model.add(layers.Dropout(0.3))\n",
    "\n",
    "    model.add(layers.Conv3D(32, (7, 7, 7), strides=(1, 1, 1), padding='same') )\n",
    "    model.add(layers.LeakyReLU())\n",
    "    model.add(layers.Dropout(0.3))\n",
    "\n",
    "    model.add(layers.Flatten())\n",
    "    model.add(layers.Dense(64))\n",
    "#     model.add(layers.Dense(32))\n",
    "    model.add(layers.Dense(1))\n",
    "\n",
    "    return model"
   ]
  },
  {
   "cell_type": "markdown",
   "metadata": {
    "colab_type": "text",
    "id": "QhPneagzCaQv"
   },
   "source": [
    "Use the (as yet untrained) discriminator to classify the generated images as real or fake. The model will be trained to output positive values for real images, and negative values for fake images."
   ]
  },
  {
   "cell_type": "code",
   "execution_count": null,
   "metadata": {
    "colab": {},
    "colab_type": "code",
    "id": "gDkA05NE6QMs"
   },
   "outputs": [],
   "source": [
    "discriminator = make_discriminator_model()\n",
    "decision = discriminator(generated_image)\n",
    "print ('d-fake: ', decision)\n",
    "\n",
    "test_image = test_images[2, :, :, :]\n",
    "test_image = np.expand_dims(test_image, 4)\n",
    "test_image = np.expand_dims(test_image, 0)\n",
    "decision = discriminator(test_image)\n",
    "print ('d-real: ', decision)"
   ]
  },
  {
   "cell_type": "code",
   "execution_count": null,
   "metadata": {},
   "outputs": [],
   "source": [
    "test_image.shape"
   ]
  },
  {
   "cell_type": "code",
   "execution_count": null,
   "metadata": {},
   "outputs": [],
   "source": [
    "generated_image.shape"
   ]
  },
  {
   "cell_type": "markdown",
   "metadata": {
    "colab_type": "text",
    "id": "0FMYgY_mPfTi"
   },
   "source": [
    "## Define the loss and optimizers\n",
    "\n",
    "Define loss functions and optimizers for both models.\n"
   ]
  },
  {
   "cell_type": "code",
   "execution_count": null,
   "metadata": {
    "colab": {},
    "colab_type": "code",
    "id": "psQfmXxYKU3X"
   },
   "outputs": [],
   "source": [
    "# This method returns a helper function to compute cross entropy loss\n",
    "cross_entropy = tf.keras.losses.BinaryCrossentropy(from_logits=True)"
   ]
  },
  {
   "cell_type": "markdown",
   "metadata": {
    "colab_type": "text",
    "id": "PKY_iPSPNWoj"
   },
   "source": [
    "### Discriminator loss\n",
    "\n",
    "This method quantifies how well the discriminator is able to distinguish real images from fakes. It compares the discriminator's predictions on real images to an array of 1s, and the discriminator's predictions on fake (generated) images to an array of 0s."
   ]
  },
  {
   "cell_type": "code",
   "execution_count": null,
   "metadata": {
    "colab": {},
    "colab_type": "code",
    "id": "wkMNfBWlT-PV"
   },
   "outputs": [],
   "source": [
    "def discriminator_loss(real_output, fake_output):\n",
    "    real_loss = cross_entropy(tf.ones_like(real_output), real_output)\n",
    "    fake_loss = cross_entropy(tf.zeros_like(fake_output), fake_output)\n",
    "    total_loss = real_loss + fake_loss\n",
    "    return total_loss"
   ]
  },
  {
   "cell_type": "markdown",
   "metadata": {
    "colab_type": "text",
    "id": "Jd-3GCUEiKtv"
   },
   "source": [
    "### Generator loss\n",
    "The generator's loss quantifies how well it was able to trick the discriminator. Intuitively, if the generator is performing well, the discriminator will classify the fake images as real (or 1). Here, we will compare the discriminators decisions on the generated images to an array of 1s."
   ]
  },
  {
   "cell_type": "code",
   "execution_count": null,
   "metadata": {
    "colab": {},
    "colab_type": "code",
    "id": "90BIcCKcDMxz"
   },
   "outputs": [],
   "source": [
    "def generator_loss(fake_output):\n",
    "    return cross_entropy(tf.ones_like(fake_output), fake_output)"
   ]
  },
  {
   "cell_type": "markdown",
   "metadata": {
    "colab_type": "text",
    "id": "MgIc7i0th_Iu"
   },
   "source": [
    "The discriminator and the generator optimizers are different since we will train two networks separately."
   ]
  },
  {
   "cell_type": "code",
   "execution_count": null,
   "metadata": {
    "colab": {},
    "colab_type": "code",
    "id": "iWCn_PVdEJZ7"
   },
   "outputs": [],
   "source": [
    "generator_optimizer = tf.keras.optimizers.Adam(lr_generator)\n",
    "discriminator_optimizer = tf.keras.optimizers.Adam(lr_discriminator)"
   ]
  },
  {
   "cell_type": "markdown",
   "metadata": {
    "colab_type": "text",
    "id": "mWtinsGDPJlV"
   },
   "source": [
    "### Save checkpoints\n",
    "This notebook also demonstrates how to save and restore models, which can be helpful in case a long running training task is interrupted."
   ]
  },
  {
   "cell_type": "code",
   "execution_count": null,
   "metadata": {
    "colab": {},
    "colab_type": "code",
    "id": "CA1w-7s2POEy"
   },
   "outputs": [],
   "source": [
    "checkpoint_dir = './training_checkpoints'\n",
    "checkpoint_prefix = os.path.join(checkpoint_dir, \"ckpt\")\n",
    "checkpoint = tf.train.Checkpoint(generator_optimizer=generator_optimizer,\n",
    "                                 discriminator_optimizer=discriminator_optimizer,\n",
    "                                 generator=generator,\n",
    "                                 discriminator=discriminator)"
   ]
  },
  {
   "cell_type": "markdown",
   "metadata": {
    "colab_type": "text",
    "id": "Rw1fkAczTQYh"
   },
   "source": [
    "## Define the training loop\n"
   ]
  },
  {
   "cell_type": "code",
   "execution_count": null,
   "metadata": {
    "colab": {},
    "colab_type": "code",
    "id": "NS2GWywBbAWo"
   },
   "outputs": [],
   "source": [
    "# We will reuse this seed overtime (so it's easier)\n",
    "# to visualize progress in the animated GIF)\n",
    "seed = tf.random.normal([num_examples_to_generate, noise_dim])"
   ]
  },
  {
   "cell_type": "markdown",
   "metadata": {
    "colab_type": "text",
    "id": "jylSonrqSWfi"
   },
   "source": [
    "The training loop begins with generator receiving a random seed as input. That seed is used to produce an image. The discriminator is then used to classify real images (drawn from the training set) and fakes images (produced by the generator). The loss is calculated for each of these models, and the gradients are used to update the generator and discriminator."
   ]
  },
  {
   "cell_type": "code",
   "execution_count": null,
   "metadata": {
    "colab": {},
    "colab_type": "code",
    "id": "3t5ibNo05jCB"
   },
   "outputs": [],
   "source": [
    "# Notice the use of `tf.function`\n",
    "# This annotation causes the function to be \"compiled\".\n",
    "@tf.function\n",
    "def train_step(images):\n",
    "    noise = tf.random.normal([BATCH_SIZE, noise_dim])\n",
    "\n",
    "    with tf.GradientTape() as gen_tape, tf.GradientTape() as disc_tape:\n",
    "      generated_images = generator(noise, training=True)\n",
    "    \n",
    "#       print(images.shape, generated_images.shape)\n",
    "\n",
    "      real_output = discriminator(images, training=True)\n",
    "      fake_output = discriminator(generated_images, training=True)\n",
    "\n",
    "      gen_loss = generator_loss(fake_output)\n",
    "      disc_loss = discriminator_loss(real_output, fake_output)\n",
    "\n",
    "    gradients_of_generator = gen_tape.gradient(gen_loss, generator.trainable_variables)\n",
    "    gradients_of_discriminator = disc_tape.gradient(disc_loss, discriminator.trainable_variables)\n",
    "\n",
    "    generator_optimizer.apply_gradients(zip(gradients_of_generator, generator.trainable_variables))\n",
    "    discriminator_optimizer.apply_gradients(zip(gradients_of_discriminator, discriminator.trainable_variables))\n",
    "    return gen_loss, disc_loss"
   ]
  },
  {
   "cell_type": "code",
   "execution_count": null,
   "metadata": {
    "colab": {},
    "colab_type": "code",
    "id": "2M7LmLtGEMQJ"
   },
   "outputs": [],
   "source": [
    "def train(dataset, epochs):\n",
    "  for epoch in range(epochs):\n",
    "    start = time.time()\n",
    "    gen_loss_arr = []\n",
    "    disc_loss_arr = []\n",
    "\n",
    "    for image_batch in dataset:\n",
    "      image_batch = np.expand_dims(image_batch, 4)\n",
    "      gen_loss, disc_loss = train_step(image_batch)\n",
    "      gen_loss_arr = np.append(gen_loss_arr, gen_loss)\n",
    "      disc_loss_arr = np.append(disc_loss_arr, disc_loss)\n",
    "      \n",
    "\n",
    "    # Produce images for the GIF as we go\n",
    "    display.clear_output(wait=True)\n",
    "    generate_and_save_images(generator,\n",
    "                             epoch + 1,\n",
    "                             seed)\n",
    "\n",
    "    # Save the model every 4 epochs\n",
    "    # Save the 4 models\n",
    "    if (epoch + 1) % np.int(EPOCHS/4) == 0:\n",
    "      checkpoint.save(file_prefix = checkpoint_prefix)\n",
    "\n",
    "    print ('Time for epoch {} is {} sec'.format(epoch + 1, time.time()-start), gen_loss, disc_loss)\n",
    "    \n",
    "  return gen_loss_arr, disc_loss_arr\n",
    "\n",
    "  # Generate after the final epoch\n",
    "  display.clear_output(wait=True)\n",
    "  generate_and_save_images(generator,\n",
    "                           epochs,\n",
    "                           seed)"
   ]
  },
  {
   "cell_type": "markdown",
   "metadata": {
    "colab_type": "text",
    "id": "2aFF7Hk3XdeW"
   },
   "source": [
    "**Generate and save images**\n"
   ]
  },
  {
   "cell_type": "code",
   "execution_count": null,
   "metadata": {
    "colab": {},
    "colab_type": "code",
    "id": "RmdVsmvhPxyy"
   },
   "outputs": [],
   "source": [
    "def generate_and_save_images(model, epoch, test_input):\n",
    "  # Notice `training` is set to False.\n",
    "  # This is so all layers run in inference mode (batchnorm).\n",
    "  predictions = model(test_input, training=False)\n",
    "\n",
    "  fig = plt.figure(figsize=(8,8))\n",
    "\n",
    "  for i in range(predictions.shape[0]):\n",
    "#       plt.subplot(4, 4, i+1) # for 16 images\n",
    "      plt.subplot(1, 1, i+1) # for 1 image\n",
    "      plt.imshow(predictions[i, :, :, slice, 0] * (tmax - tmin) + tmin, cmap='gray_r')\n",
    "      plt.axis('off')\n",
    "      plt.tight_layout()\n",
    "\n",
    "  plt.savefig('image_at_epoch_{:04d}.png'.format(epoch))\n",
    "  plt.show()"
   ]
  },
  {
   "cell_type": "markdown",
   "metadata": {
    "colab_type": "text",
    "id": "dZrd4CdjR-Fp"
   },
   "source": [
    "## Train the model\n",
    "Call the `train()` method defined above to train the generator and discriminator simultaneously. Note, training GANs can be tricky. It's important that the generator and discriminator do not overpower each other (e.g., that they train at a similar rate).\n",
    "\n",
    "At the beginning of the training, the generated images look like random noise. As training progresses, the generated structure should look increasingly real. "
   ]
  },
  {
   "cell_type": "code",
   "execution_count": null,
   "metadata": {
    "colab": {},
    "colab_type": "code",
    "id": "Ly3UN0SLLY2l"
   },
   "outputs": [],
   "source": [
    "gen_loss_arr, disc_loss_arr = train(train_dataset, EPOCHS)"
   ]
  },
  {
   "cell_type": "code",
   "execution_count": null,
   "metadata": {},
   "outputs": [],
   "source": [
    "plt.figure(232, figsize = (12, 6))\n",
    "plt.plot(gen_loss_arr, label='gen_loss')\n",
    "plt.plot(disc_loss_arr, label ='disc_loss')\n",
    "plt.legend()\n",
    "plt.xlabel('epochs')\n",
    "plt.ylabel('loss')\n",
    "plt.show()\n"
   ]
  },
  {
   "cell_type": "markdown",
   "metadata": {
    "colab_type": "text",
    "id": "rfM4YcPVPkNO"
   },
   "source": [
    "Restore the latest checkpoint."
   ]
  },
  {
   "cell_type": "code",
   "execution_count": null,
   "metadata": {
    "colab": {},
    "colab_type": "code",
    "id": "XhXsd0srPo8c"
   },
   "outputs": [],
   "source": [
    "checkpoint.restore(tf.train.latest_checkpoint(checkpoint_dir))"
   ]
  },
  {
   "cell_type": "markdown",
   "metadata": {
    "colab_type": "text",
    "id": "P4M_vIbUi7c0"
   },
   "source": [
    "## Create a GIF\n"
   ]
  },
  {
   "cell_type": "code",
   "execution_count": null,
   "metadata": {
    "colab": {},
    "colab_type": "code",
    "id": "WfO5wCdclHGL"
   },
   "outputs": [],
   "source": [
    "# Display a single image using the epoch number\n",
    "def display_image(epoch_no):\n",
    "  return PIL.Image.open('image_at_epoch_{:04d}.png'.format(epoch_no))"
   ]
  },
  {
   "cell_type": "code",
   "execution_count": null,
   "metadata": {
    "colab": {},
    "colab_type": "code",
    "id": "5x3q9_Oe5q0A"
   },
   "outputs": [],
   "source": [
    "display_image(EPOCHS)"
   ]
  },
  {
   "cell_type": "markdown",
   "metadata": {
    "colab_type": "text",
    "id": "NywiH3nL8guF"
   },
   "source": [
    "Use `imageio` to create an animated gif using the images saved during training."
   ]
  },
  {
   "cell_type": "code",
   "execution_count": null,
   "metadata": {
    "colab": {},
    "colab_type": "code",
    "id": "IGKQgENQ8lEI"
   },
   "outputs": [],
   "source": [
    "GIFtrue = False\n",
    "if GIFtrue:\n",
    "    anim_file = 'zeldo_gan.gif'\n",
    "\n",
    "    with imageio.get_writer(anim_file, mode='I') as writer:\n",
    "      filenames = glob.glob('image*.png')\n",
    "      filenames = sorted(filenames)\n",
    "      last = -1\n",
    "      for i,filename in enumerate(filenames):\n",
    "        frame = 2*(i**0.5)\n",
    "        if round(frame) > round(last):\n",
    "          last = frame\n",
    "        else:\n",
    "          continue\n",
    "        image = imageio.imread(filename)\n",
    "        writer.append_data(image)\n",
    "      image = imageio.imread(filename)\n",
    "      writer.append_data(image)\n",
    "\n",
    "    import IPython\n",
    "    if IPython.version_info > (6,2,0,''):\n",
    "      display.Image(filename=anim_file)"
   ]
  },
  {
   "cell_type": "code",
   "execution_count": null,
   "metadata": {},
   "outputs": [],
   "source": [
    "def generate_images(model, epoch, test_input):\n",
    "  # Notice `training` is set to False.\n",
    "  # This is so all layers run in inference mode (batchnorm).\n",
    "  predictions = model(test_input, training=False)\n",
    "\n",
    "  fig = plt.figure(figsize=(8,8))\n",
    "  print(predictions.shape[0])\n",
    "\n",
    "#   for i in range(predictions.shape[0]):\n",
    "#   plt.subplot(1, 1, )\n",
    "  plt.imshow(predictions[0, :, slice, :, 0] * (tmax - tmin) + tmin, cmap='gray_r')\n",
    "#   plt.axis('off')\n",
    "  plt.tight_layout()\n",
    "\n",
    "  plt.savefig('image_at_epoch_{:04d}.png'.format(epoch))\n",
    "  plt.show()"
   ]
  },
  {
   "cell_type": "code",
   "execution_count": null,
   "metadata": {},
   "outputs": [],
   "source": [
    "ifPlotGen = True\n",
    "\n",
    "if ifPlotTrain:\n",
    "    \n",
    "    test_input = tf.random.normal([1, noise_dim])\n",
    "    new_gen = generator(test_input, training=False)* (tmax - tmin) + tmin\n",
    "    test_input2 = tf.random.normal([1, noise_dim])\n",
    "    new_gen2 = generator(test_input2, training=False)* (tmax - tmin) + tmin\n",
    "    \n",
    "    slice = 32\n",
    "    fig, ax = plt.subplots(2, 3, figsize = (16,  10))\n",
    "    ax[0, 0].imshow(new_gen[0, slice, :, :, 0], cmap='gray_r')\n",
    "    ax[0, 1].imshow(new_gen[0, :, slice, :, 0], cmap='gray_r')\n",
    "    ax[0, 2].imshow(new_gen[0, :, :, slice, 0], cmap='gray_r')\n",
    "\n",
    "    ax[1, 0].imshow(new_gen2[0, slice, :, :, 0], cmap='gray_r')\n",
    "    ax[1, 1].imshow(new_gen2[0, :, slice, :, 0], cmap='gray_r')\n",
    "    ax[1, 2].imshow(new_gen2[0, :, :, slice, 0], cmap='gray_r')\n",
    "\n",
    "    ax[1, 0].set_xlabel('X ($h^{-1}$ Mpc)',fontsize=30)\n",
    "    ax[1, 1].set_xlabel('Y ($h^{-1}$ Mpc)', fontsize=30)\n",
    "    ax[1, 2].set_xlabel('Z ($h^{-1}$ Mpc)', fontsize=30)\n",
    "\n",
    "    ax[0, 0].set_ylabel('z = 0,' + ' sim = 1' , rotation=0, fontsize=30, labelpad=120, color = 'r')\n",
    "    ax[1, 0].set_ylabel('z = 0,' + ' sim = 2' , rotation=0, fontsize=30, labelpad=120, color = 'r')\n",
    "\n",
    "\n",
    "    plt.savefig('zeldo_snaps.png')\n",
    "    plt.tight_layout()\n",
    "    plt.show()"
   ]
  },
  {
   "cell_type": "code",
   "execution_count": null,
   "metadata": {},
   "outputs": [],
   "source": []
  }
 ],
 "metadata": {
  "accelerator": "GPU",
  "colab": {
   "collapsed_sections": [],
   "name": "dcgan.ipynb",
   "private_outputs": true,
   "provenance": [],
   "toc_visible": true
  },
  "kernelspec": {
   "display_name": "Python [conda env:env_tf2]",
   "language": "python",
   "name": "conda-env-env_tf2-py"
  },
  "language_info": {
   "codemirror_mode": {
    "name": "ipython",
    "version": 3
   },
   "file_extension": ".py",
   "mimetype": "text/x-python",
   "name": "python",
   "nbconvert_exporter": "python",
   "pygments_lexer": "ipython3",
   "version": "3.7.6"
  }
 },
 "nbformat": 4,
 "nbformat_minor": 1
}
