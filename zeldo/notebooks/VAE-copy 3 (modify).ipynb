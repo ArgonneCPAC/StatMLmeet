{
 "cells": [
  {
   "cell_type": "code",
   "execution_count": 1,
   "metadata": {},
   "outputs": [
    {
     "name": "stderr",
     "output_type": "stream",
     "text": [
      "Using TensorFlow backend.\n"
     ]
    }
   ],
   "source": [
    "# Activate TF2 behavior:\n",
    "from tensorflow.python import tf2\n",
    "if not tf2.enabled():\n",
    "  import tensorflow.compat.v2 as tf\n",
    "  tf.enable_v2_behavior()\n",
    "  assert tf2.enabled()\n",
    "\n",
    "\n",
    "import numpy as np\n",
    "import tensorflow as tf\n",
    "\n",
    "# Set seeds\n",
    "np.random.seed(10)\n",
    "tf.random.set_seed(10)\n",
    "\n",
    "from tensorflow.keras.layers import Input, Dense, LSTM, Lambda, Dropout, Flatten, Reshape, Conv2DTranspose\n",
    "from tensorflow.keras.layers import Conv2D, UpSampling2D, MaxPooling2D\n",
    "\n",
    "from tensorflow.keras import optimizers, models, regularizers\n",
    "from tensorflow.keras import backend as K\n",
    "from tensorflow.keras.callbacks import ModelCheckpoint, EarlyStopping\n",
    "from tensorflow.keras.models import load_model, Sequential, Model\n",
    "from tensorflow.keras.regularizers import l1\n",
    "from tensorflow.keras.utils import plot_model\n",
    "from keras.losses import mse, binary_crossentropy\n",
    "\n",
    "from sklearn.pipeline import Pipeline\n",
    "from sklearn.preprocessing import StandardScaler, MinMaxScaler\n",
    "\n",
    "import matplotlib.pyplot as plt\n",
    "\n",
    "mode = 'train'\n"
   ]
  },
  {
   "cell_type": "code",
   "execution_count": 100,
   "metadata": {},
   "outputs": [],
   "source": [
    "num_epochs = 300 #5000\n",
    "batch_size = 64\n",
    "learning_rate = 1e-5 #1e-4\n",
    "decay_rate = 3e-4 # 1e-1\n",
    "\n",
    "latent_dim = 2*2*2\n",
    "epsilon_mean = 0.1\n",
    "epsilon_std = 1e-4"
   ]
  },
  {
   "cell_type": "code",
   "execution_count": 101,
   "metadata": {},
   "outputs": [],
   "source": [
    "output = np.load(\"/Users/dongxiaofeng/Documents/GitHub/zeldo/Zeldotest.np.npy\")\n",
    "output = (output - output.min() )/(output.max() - output.min())\n",
    "\n",
    "swe_train = output[0:800,:,:]\n",
    "swe_valid = output[800:1000,:,:]\n",
    "\n",
    "swe_train = swe_train.reshape(800,64,64,1)\n",
    "swe_valid = swe_valid.reshape(200,64,64,1)\n",
    "\n",
    "# # Visualize transformations\n",
    "# plt.figure()\n",
    "# plt.imshow(swe_train[0].reshape(64,64))\n",
    "# plt.show()\n",
    "\n",
    "# plt.figure()\n",
    "# plt.imshow(swe_train[1].reshape(64,64))\n",
    "# plt.show()\n",
    "\n",
    "# plt.figure()\n",
    "# plt.imshow(swe_train[2].reshape(64,64))\n",
    "# plt.show()\n",
    "# exit()\n",
    "\n",
    "# Shuffle\n",
    "swe_train_data = np.copy(swe_train)\n",
    "swe_valid_data = np.copy(swe_valid)\n",
    "\n",
    "np.random.shuffle(swe_train_data)\n",
    "np.random.shuffle(swe_valid_data)\n",
    "\n",
    "\n",
    "def coeff_determination(y_pred, y_true): #Order of function inputs is important here        \n",
    "    SS_res =  K.sum(K.square( y_true-y_pred )) \n",
    "    SS_tot = K.sum(K.square( y_true - K.mean(y_true) ) )\n",
    "    return ( 1 - SS_res/(SS_tot + K.epsilon()) )\n",
    "\n"
   ]
  },
  {
   "cell_type": "code",
   "execution_count": 102,
   "metadata": {},
   "outputs": [],
   "source": [
    "def sampling(args):\n",
    "    epsilon_mean = 0.1\n",
    "    epsilon_std = 1e-4\n",
    "    z_mean, z_log_var = args\n",
    "    batch = K.shape(z_mean)[0]\n",
    "    dim = K.int_shape(z_mean)[1]\n",
    "    # by default, random_normal has mean=0 and std=1.0\n",
    "    epsilon = K.random_normal(shape=(batch, dim), mean=epsilon_mean, stddev=epsilon_std)\n",
    "    return z_mean + K.exp(0.5 * z_log_var) * epsilon\n"
   ]
  },
  {
   "cell_type": "code",
   "execution_count": 103,
   "metadata": {},
   "outputs": [
    {
     "name": "stdout",
     "output_type": "stream",
     "text": [
      "(200, 64, 64, 1)\n"
     ]
    }
   ],
   "source": [
    "print(swe_valid.shape)\n"
   ]
  },
  {
   "cell_type": "code",
   "execution_count": 104,
   "metadata": {},
   "outputs": [],
   "source": [
    "# reparameterization trick\n",
    "# instead of sampling from Q(z|X), sample eps = N(0,I)\n",
    "# then z = z_mean + sqrt(var)*eps\n",
    "def sampling(args):\n",
    "    \"\"\"Reparameterization trick by sampling fr an isotropic unit Gaussian.\n",
    "     Arguments\n",
    "        args (tensor): mean and log of variance of Q(z|X)\n",
    "     Returns\n",
    "        z (tensor): sampled latent vector\n",
    "    \"\"\"\n",
    "\n",
    "    z_mean, z_log_var = args\n",
    "    batch = K.shape(z_mean)[0]\n",
    "    dim = K.int_shape(z_mean)[1]\n",
    "    # by default, random_normal has mean=0 and std=1.0\n",
    "    epsilon = K.random_normal(shape=(batch, dim), mean=epsilon_mean, stddev=epsilon_std)\n",
    "    return z_mean + K.exp(0.5 * z_log_var) * epsilon\n"
   ]
  },
  {
   "cell_type": "code",
   "execution_count": 105,
   "metadata": {},
   "outputs": [
    {
     "name": "stdout",
     "output_type": "stream",
     "text": [
      "Model: \"encoder\"\n",
      "__________________________________________________________________________________________________\n",
      "Layer (type)                    Output Shape         Param #     Connected to                     \n",
      "==================================================================================================\n",
      "Field (InputLayer)              [(None, 64, 64, 1)]  0                                            \n",
      "__________________________________________________________________________________________________\n",
      "conv2d_55 (Conv2D)              (None, 64, 64, 30)   300         Field[0][0]                      \n",
      "__________________________________________________________________________________________________\n",
      "max_pooling2d_25 (MaxPooling2D) (None, 32, 32, 30)   0           conv2d_55[0][0]                  \n",
      "__________________________________________________________________________________________________\n",
      "conv2d_56 (Conv2D)              (None, 32, 32, 25)   6775        max_pooling2d_25[0][0]           \n",
      "__________________________________________________________________________________________________\n",
      "max_pooling2d_26 (MaxPooling2D) (None, 16, 16, 25)   0           conv2d_56[0][0]                  \n",
      "__________________________________________________________________________________________________\n",
      "conv2d_57 (Conv2D)              (None, 16, 16, 20)   4520        max_pooling2d_26[0][0]           \n",
      "__________________________________________________________________________________________________\n",
      "max_pooling2d_27 (MaxPooling2D) (None, 8, 8, 20)     0           conv2d_57[0][0]                  \n",
      "__________________________________________________________________________________________________\n",
      "conv2d_58 (Conv2D)              (None, 8, 8, 15)     2715        max_pooling2d_27[0][0]           \n",
      "__________________________________________________________________________________________________\n",
      "max_pooling2d_28 (MaxPooling2D) (None, 4, 4, 15)     0           conv2d_58[0][0]                  \n",
      "__________________________________________________________________________________________________\n",
      "conv2d_59 (Conv2D)              (None, 4, 4, 10)     1360        max_pooling2d_28[0][0]           \n",
      "__________________________________________________________________________________________________\n",
      "flatten_5 (Flatten)             (None, 160)          0           conv2d_59[0][0]                  \n",
      "__________________________________________________________________________________________________\n",
      "z_mean (Dense)                  (None, 8)            1288        flatten_5[0][0]                  \n",
      "__________________________________________________________________________________________________\n",
      "z_log_var (Dense)               (None, 8)            1288        flatten_5[0][0]                  \n",
      "__________________________________________________________________________________________________\n",
      "z (Lambda)                      (None, 8)            0           z_mean[0][0]                     \n",
      "                                                                 z_log_var[0][0]                  \n",
      "==================================================================================================\n",
      "Total params: 18,246\n",
      "Trainable params: 18,246\n",
      "Non-trainable params: 0\n",
      "__________________________________________________________________________________________________\n"
     ]
    }
   ],
   "source": [
    "    ## Encoder\n",
    "encoder_inputs = Input(shape=(64,64,1),name='Field')\n",
    "    # Encode   \n",
    "x = Conv2D(30,kernel_size=(3,3),activation='relu',padding='same')(encoder_inputs)\n",
    "enc_l2 = MaxPooling2D(pool_size=(2, 2),padding='same')(x)\n",
    "\n",
    "x = Conv2D(25,kernel_size=(3,3),activation='relu',padding='same')(enc_l2)\n",
    "enc_l3 = MaxPooling2D(pool_size=(2, 2),padding='same')(x)\n",
    "\n",
    "x = Conv2D(20,kernel_size=(3,3),activation='relu',padding='same')(enc_l3)\n",
    "enc_l4 = MaxPooling2D(pool_size=(2, 2),padding='same')(x)\n",
    "\n",
    "x = Conv2D(15,kernel_size=(3,3),activation='relu',padding='same')(enc_l4)\n",
    "enc_l5 = MaxPooling2D(pool_size=(2, 2),padding='same')(x)\n",
    "\n",
    "x = Conv2D(10,kernel_size=(3,3),activation=None,padding='same')(enc_l5)\n",
    "encoded = MaxPooling2D(pool_size=(2, 2),padding='same')(x)\n",
    "\n",
    "x = Flatten()(x)\n",
    "z_mean = Dense(latent_dim, name='z_mean')(x)\n",
    "z_log_var = Dense(latent_dim, name='z_log_var')(x)\n",
    "\n",
    "# use reparameterization trick to push the sampling out as input\n",
    "# note that \"output_shape\" isn't necessary with the TensorFlow backend\n",
    "z = Lambda(sampling, output_shape=(latent_dim,), name='z')([z_mean, z_log_var])\n",
    "\n",
    "# instantiate encoder model\n",
    "encoder = Model(encoder_inputs, [z_mean, z_log_var, z], name='encoder')\n",
    "encoder.summary()"
   ]
  },
  {
   "cell_type": "code",
   "execution_count": 106,
   "metadata": {
    "scrolled": true
   },
   "outputs": [
    {
     "name": "stdout",
     "output_type": "stream",
     "text": [
      "Model: \"model_5\"\n",
      "_________________________________________________________________\n",
      "Layer (type)                 Output Shape              Param #   \n",
      "=================================================================\n",
      "z_sampling (InputLayer)      [(None, 8)]               0         \n",
      "_________________________________________________________________\n",
      "dense_5 (Dense)              (None, 8)                 72        \n",
      "_________________________________________________________________\n",
      "reshape_5 (Reshape)          (None, 2, 2, 2)           0         \n",
      "_________________________________________________________________\n",
      "conv2d_60 (Conv2D)           (None, 2, 2, 2)           38        \n",
      "_________________________________________________________________\n",
      "up_sampling2d_25 (UpSampling (None, 4, 4, 2)           0         \n",
      "_________________________________________________________________\n",
      "conv2d_61 (Conv2D)           (None, 4, 4, 15)          285       \n",
      "_________________________________________________________________\n",
      "up_sampling2d_26 (UpSampling (None, 8, 8, 15)          0         \n",
      "_________________________________________________________________\n",
      "conv2d_62 (Conv2D)           (None, 8, 8, 20)          2720      \n",
      "_________________________________________________________________\n",
      "up_sampling2d_27 (UpSampling (None, 16, 16, 20)        0         \n",
      "_________________________________________________________________\n",
      "conv2d_63 (Conv2D)           (None, 16, 16, 25)        4525      \n",
      "_________________________________________________________________\n",
      "up_sampling2d_28 (UpSampling (None, 32, 32, 25)        0         \n",
      "_________________________________________________________________\n",
      "conv2d_64 (Conv2D)           (None, 32, 32, 30)        6780      \n",
      "_________________________________________________________________\n",
      "up_sampling2d_29 (UpSampling (None, 64, 64, 30)        0         \n",
      "_________________________________________________________________\n",
      "conv2d_65 (Conv2D)           (None, 64, 64, 1)         271       \n",
      "=================================================================\n",
      "Total params: 14,691\n",
      "Trainable params: 14,691\n",
      "Non-trainable params: 0\n",
      "_________________________________________________________________\n",
      "Failed to import pydot. You must install pydot and graphviz for `pydotprint` to work.\n",
      "Failed to import pydot. You must install pydot and graphviz for `pydotprint` to work.\n"
     ]
    }
   ],
   "source": [
    "# build decoder model\n",
    "latent_inputs = Input(shape=(latent_dim,), name='z_sampling')\n",
    "x = Dense(8)(latent_inputs)\n",
    "x = Reshape((2, 2, 2))(x)\n",
    "       \n",
    "x = Conv2D(2,kernel_size=(3,3),activation=None,padding='same')(x)\n",
    "dec_l1 = UpSampling2D(size=(2, 2))(x)\n",
    "\n",
    "x = Conv2D(15,kernel_size=(3,3),activation='relu',padding='same')(dec_l1)\n",
    "dec_l2 = UpSampling2D(size=(2, 2))(x)\n",
    "\n",
    "x = Conv2D(20,kernel_size=(3,3),activation='relu',padding='same')(dec_l2)\n",
    "dec_l3 = UpSampling2D(size=(2, 2))(x)\n",
    "\n",
    "x = Conv2D(25,kernel_size=(3,3),activation='relu',padding='same')(dec_l3)\n",
    "dec_l4 = UpSampling2D(size=(2, 2))(x)\n",
    "\n",
    "x = Conv2D(30,kernel_size=(3,3),activation='relu',padding='same')(dec_l4)\n",
    "dec_l5 = UpSampling2D(size=(2, 2))(x)\n",
    "\n",
    "decoded = Conv2D(1,kernel_size=(3,3),activation=None,padding='same')(dec_l5)\n",
    "decoder = Model(inputs=latent_inputs,outputs=decoded)\n",
    "decoder.summary()\n",
    "plot_model(decoder, to_file='vae_cnn_decoder.png', show_shapes=True)\n",
    "\n",
    "# instantiate VAE model\n",
    "#outputs = decoder(encoder(encoder_inputs))\n",
    "# vae = Model(encoder_inputs, outputs, name='vae')\n",
    "\n",
    "plot_model(decoder, to_file='vae_cnn_decoder.png', show_shapes=True)\n"
   ]
  },
  {
   "cell_type": "code",
   "execution_count": 107,
   "metadata": {},
   "outputs": [],
   "source": [
    "## Autoencoder\n",
    "\n",
    "# instantiate VAE model\n",
    "# ae_outputs = decoder(encoder(inputs)[2])\n",
    "ae_outputs = decoder(encoder(encoder_inputs))\n",
    "model = Model(inputs=encoder_inputs,outputs=ae_outputs,name='VAE')\n"
   ]
  },
  {
   "cell_type": "code",
   "execution_count": 108,
   "metadata": {},
   "outputs": [
    {
     "name": "stdout",
     "output_type": "stream",
     "text": [
      "Requirement already satisfied: pydot in /Users/dongxiaofeng/anaconda3/lib/python3.7/site-packages (1.4.1)\n",
      "Requirement already satisfied: pyparsing>=2.1.4 in /Users/dongxiaofeng/anaconda3/lib/python3.7/site-packages (from pydot) (2.3.1)\n",
      "Requirement already satisfied: graphviz in /Users/dongxiaofeng/anaconda3/lib/python3.7/site-packages (0.14)\n"
     ]
    }
   ],
   "source": [
    "!pip install pydot\n",
    "!pip install graphviz\n",
    "\n",
    "import pydot"
   ]
  },
  {
   "cell_type": "code",
   "execution_count": null,
   "metadata": {},
   "outputs": [],
   "source": []
  },
  {
   "cell_type": "code",
   "execution_count": 109,
   "metadata": {},
   "outputs": [],
   "source": [
    "import numpy as np\n",
    "import tensorflow as tf\n",
    "\n",
    "# Set seeds\n",
    "np.random.seed(10)\n",
    "tf.random.set_seed(10)\n",
    "\n",
    "from tensorflow.keras.layers import Input, Dense, LSTM, Lambda, Dropout, Flatten, Reshape\n",
    "from tensorflow.keras.layers import Conv2D, UpSampling2D, MaxPooling2D\n",
    "\n",
    "from tensorflow.keras import optimizers, models, regularizers\n",
    "from tensorflow.keras import backend as K\n",
    "from tensorflow.keras.callbacks import ModelCheckpoint, EarlyStopping\n",
    "from tensorflow.keras.models import load_model, Sequential, Model\n",
    "from tensorflow.keras.regularizers import l1\n",
    "from tensorflow.keras.utils import plot_model\n",
    "from tensorflow.keras.losses import binary_crossentropy, mse\n",
    "\n",
    "from sklearn.pipeline import Pipeline\n",
    "from sklearn.preprocessing import StandardScaler, MinMaxScaler\n",
    "\n",
    "import matplotlib.pyplot as plt\n",
    "lrate = 0.001\n",
    "weights_filepath = '/Users/dongxiaofeng/Documents/GitHub/zeldo/Zeldotest.h'\n",
    "####   mode = 'test' # train, test\n",
    "num_latent = 8"
   ]
  },
  {
   "cell_type": "code",
   "execution_count": 110,
   "metadata": {},
   "outputs": [],
   "source": [
    "def coeff_determination(y_pred, y_true): #Order of function inputs is important here        \n",
    "        SS_res =  K.sum(K.square( y_true-y_pred )) \n",
    "        SS_tot = K.sum(K.square( y_true - K.mean(y_true) ) )\n",
    "        return ( 1 - SS_res/(SS_tot + K.epsilon()) )\n"
   ]
  },
  {
   "cell_type": "code",
   "execution_count": 111,
   "metadata": {},
   "outputs": [
    {
     "name": "stdout",
     "output_type": "stream",
     "text": [
      "Model: \"VAE\"\n",
      "__________________________________________________________________________________________________\n",
      "Layer (type)                    Output Shape         Param #     Connected to                     \n",
      "==================================================================================================\n",
      "Field (InputLayer)              [(None, 64, 64, 1)]  0                                            \n",
      "__________________________________________________________________________________________________\n",
      "encoder (Model)                 [(None, 8), (None, 8 18246       Field[0][0]                      \n",
      "__________________________________________________________________________________________________\n",
      "model_5 (Model)                 (None, 64, 64, 1)    14691       encoder[1][0]                    \n",
      "                                                                 encoder[1][1]                    \n",
      "                                                                 encoder[1][2]                    \n",
      "__________________________________________________________________________________________________\n",
      "conv2d_55 (Conv2D)              (None, 64, 64, 30)   300         Field[0][0]                      \n",
      "__________________________________________________________________________________________________\n",
      "max_pooling2d_25 (MaxPooling2D) (None, 32, 32, 30)   0           conv2d_55[0][0]                  \n",
      "__________________________________________________________________________________________________\n",
      "conv2d_56 (Conv2D)              (None, 32, 32, 25)   6775        max_pooling2d_25[0][0]           \n",
      "__________________________________________________________________________________________________\n",
      "max_pooling2d_26 (MaxPooling2D) (None, 16, 16, 25)   0           conv2d_56[0][0]                  \n",
      "__________________________________________________________________________________________________\n",
      "conv2d_57 (Conv2D)              (None, 16, 16, 20)   4520        max_pooling2d_26[0][0]           \n",
      "__________________________________________________________________________________________________\n",
      "max_pooling2d_27 (MaxPooling2D) (None, 8, 8, 20)     0           conv2d_57[0][0]                  \n",
      "__________________________________________________________________________________________________\n",
      "conv2d_58 (Conv2D)              (None, 8, 8, 15)     2715        max_pooling2d_27[0][0]           \n",
      "__________________________________________________________________________________________________\n",
      "max_pooling2d_28 (MaxPooling2D) (None, 4, 4, 15)     0           conv2d_58[0][0]                  \n",
      "__________________________________________________________________________________________________\n",
      "conv2d_59 (Conv2D)              (None, 4, 4, 10)     1360        max_pooling2d_28[0][0]           \n",
      "__________________________________________________________________________________________________\n",
      "flatten_5 (Flatten)             (None, 160)          0           conv2d_59[0][0]                  \n",
      "__________________________________________________________________________________________________\n",
      "z_log_var (Dense)               (None, 8)            1288        flatten_5[0][0]                  \n",
      "__________________________________________________________________________________________________\n",
      "z_mean (Dense)                  (None, 8)            1288        flatten_5[0][0]                  \n",
      "__________________________________________________________________________________________________\n",
      "tf_op_layer_AddV2_10 (TensorFlo [(None, 8)]          0           z_log_var[0][0]                  \n",
      "__________________________________________________________________________________________________\n",
      "tf_op_layer_Square_5 (TensorFlo [(None, 8)]          0           z_mean[0][0]                     \n",
      "__________________________________________________________________________________________________\n",
      "tf_op_layer_Sub_10 (TensorFlowO [(None, 8)]          0           tf_op_layer_AddV2_10[0][0]       \n",
      "                                                                 tf_op_layer_Square_5[0][0]       \n",
      "__________________________________________________________________________________________________\n",
      "tf_op_layer_Exp_5 (TensorFlowOp [(None, 8)]          0           z_log_var[0][0]                  \n",
      "__________________________________________________________________________________________________\n",
      "tf_op_layer_Reshape_12 (TensorF [(None,)]            0           model_5[1][0]                    \n",
      "__________________________________________________________________________________________________\n",
      "tf_op_layer_Reshape_11 (TensorF [(None,)]            0           Field[0][0]                      \n",
      "__________________________________________________________________________________________________\n",
      "tf_op_layer_Sub_11 (TensorFlowO [(None, 8)]          0           tf_op_layer_Sub_10[0][0]         \n",
      "                                                                 tf_op_layer_Exp_5[0][0]          \n",
      "__________________________________________________________________________________________________\n",
      "tf_op_layer_SquaredDifference_5 [(None,)]            0           tf_op_layer_Reshape_12[0][0]     \n",
      "                                                                 tf_op_layer_Reshape_11[0][0]     \n",
      "__________________________________________________________________________________________________\n",
      "tf_op_layer_Sum_5 (TensorFlowOp [(None,)]            0           tf_op_layer_Sub_11[0][0]         \n",
      "__________________________________________________________________________________________________\n",
      "tf_op_layer_Mean_10 (TensorFlow [()]                 0           tf_op_layer_SquaredDifference_5[0\n",
      "__________________________________________________________________________________________________\n",
      "tf_op_layer_Mul_5 (TensorFlowOp [(None,)]            0           tf_op_layer_Sum_5[0][0]          \n",
      "__________________________________________________________________________________________________\n",
      "tf_op_layer_AddV2_11 (TensorFlo [(None,)]            0           tf_op_layer_Mean_10[0][0]        \n",
      "                                                                 tf_op_layer_Mul_5[0][0]          \n",
      "__________________________________________________________________________________________________\n",
      "tf_op_layer_Mean_11 (TensorFlow [()]                 0           tf_op_layer_AddV2_11[0][0]       \n",
      "__________________________________________________________________________________________________\n",
      "add_loss_5 (AddLoss)            ()                   0           tf_op_layer_Mean_11[0][0]        \n",
      "==================================================================================================\n",
      "Total params: 32,937\n",
      "Trainable params: 32,937\n",
      "Non-trainable params: 0\n",
      "__________________________________________________________________________________________________\n"
     ]
    }
   ],
   "source": [
    "my_adam = optimizers.Adam(lr=lrate, beta_1=0.9, beta_2=0.999, epsilon=None, decay=0.0, amsgrad=False)\n",
    "reconstruction_loss = mse(K.flatten(encoder_inputs), K.flatten(ae_outputs))\n",
    "kl_loss = 1 + z_log_var - K.square(z_mean) - K.exp(z_log_var)\n",
    "kl_loss = K.sum(kl_loss, axis=-1)\n",
    "kl_loss *= -0.5\n",
    "vae_loss = K.mean(reconstruction_loss + kl_loss)\n",
    "model.add_loss(vae_loss)\n",
    "model.compile(optimizer=my_adam,metrics=[coeff_determination])\n",
    "model.summary()"
   ]
  },
  {
   "cell_type": "code",
   "execution_count": null,
   "metadata": {},
   "outputs": [],
   "source": []
  },
  {
   "cell_type": "code",
   "execution_count": null,
   "metadata": {},
   "outputs": [],
   "source": []
  },
  {
   "cell_type": "code",
   "execution_count": null,
   "metadata": {},
   "outputs": [],
   "source": []
  },
  {
   "cell_type": "code",
   "execution_count": null,
   "metadata": {},
   "outputs": [],
   "source": []
  },
  {
   "cell_type": "code",
   "execution_count": 112,
   "metadata": {},
   "outputs": [
    {
     "name": "stdout",
     "output_type": "stream",
     "text": [
      "Epoch 1/300\n",
      "12/12 [==============================] - 5s 410ms/step - loss: 0.0031 - coeff_determination: -3163.9133 - val_loss: 0.0025 - val_coeff_determination: -227.5873\n",
      "Epoch 2/300\n",
      "12/12 [==============================] - 5s 376ms/step - loss: 0.0025 - coeff_determination: -180.5123 - val_loss: 0.0025 - val_coeff_determination: -218.4838\n",
      "Epoch 3/300\n",
      "12/12 [==============================] - 5s 375ms/step - loss: 0.0025 - coeff_determination: -250.6180 - val_loss: 0.0025 - val_coeff_determination: -238.3493\n",
      "Epoch 4/300\n",
      "12/12 [==============================] - 4s 372ms/step - loss: 0.0025 - coeff_determination: -291.9909 - val_loss: 0.0025 - val_coeff_determination: -322.8682\n",
      "Epoch 5/300\n",
      "12/12 [==============================] - 4s 374ms/step - loss: 0.0024 - coeff_determination: -348.3490 - val_loss: 0.0025 - val_coeff_determination: -408.6906\n",
      "Epoch 6/300\n",
      "12/12 [==============================] - 5s 388ms/step - loss: 0.0024 - coeff_determination: -433.4320 - val_loss: 0.0024 - val_coeff_determination: -504.8908\n",
      "Epoch 7/300\n",
      "12/12 [==============================] - 4s 374ms/step - loss: 0.0024 - coeff_determination: -554.2328 - val_loss: 0.0024 - val_coeff_determination: -655.5466\n",
      "Epoch 8/300\n",
      "12/12 [==============================] - 5s 384ms/step - loss: 0.0024 - coeff_determination: -750.4983 - val_loss: 0.0024 - val_coeff_determination: -891.6796\n",
      "Epoch 9/300\n",
      "12/12 [==============================] - 5s 377ms/step - loss: 0.0024 - coeff_determination: -1028.2854 - val_loss: 0.0024 - val_coeff_determination: -1239.2482\n",
      "Epoch 10/300\n",
      "12/12 [==============================] - 5s 409ms/step - loss: 0.0025 - coeff_determination: -1509.0200 - val_loss: 0.0024 - val_coeff_determination: -1860.9253\n",
      "Epoch 11/300\n",
      "12/12 [==============================] - 5s 386ms/step - loss: 0.0024 - coeff_determination: -2204.0635 - val_loss: 0.0024 - val_coeff_determination: -2674.3433\n",
      "Epoch 12/300\n",
      "12/12 [==============================] - 4s 358ms/step - loss: 0.0024 - coeff_determination: -3209.8083 - val_loss: 0.0024 - val_coeff_determination: -3856.8003\n",
      "Epoch 13/300\n",
      "12/12 [==============================] - 4s 350ms/step - loss: 0.0024 - coeff_determination: -4505.5308 - val_loss: 0.0024 - val_coeff_determination: -5398.5127\n",
      "Epoch 14/300\n",
      "12/12 [==============================] - 4s 342ms/step - loss: 0.0024 - coeff_determination: -5948.3052 - val_loss: 0.0024 - val_coeff_determination: -6764.9951\n",
      "Epoch 15/300\n",
      "12/12 [==============================] - 4s 346ms/step - loss: 0.0024 - coeff_determination: -7464.8120 - val_loss: 0.0024 - val_coeff_determination: -7805.8125\n",
      "Epoch 16/300\n",
      "12/12 [==============================] - 4s 341ms/step - loss: 0.0024 - coeff_determination: -8543.8896 - val_loss: 0.0024 - val_coeff_determination: -9215.2832\n",
      "Epoch 17/300\n",
      "12/12 [==============================] - 4s 345ms/step - loss: 0.0024 - coeff_determination: -9523.4307 - val_loss: 0.0024 - val_coeff_determination: -9661.2568\n",
      "Epoch 18/300\n",
      "12/12 [==============================] - 4s 342ms/step - loss: 0.0024 - coeff_determination: -10238.5088 - val_loss: 0.0024 - val_coeff_determination: -10448.2588\n",
      "Epoch 19/300\n",
      "12/12 [==============================] - 4s 344ms/step - loss: 0.0024 - coeff_determination: -10428.4922 - val_loss: 0.0024 - val_coeff_determination: -10861.0547\n",
      "Epoch 20/300\n",
      "12/12 [==============================] - 4s 344ms/step - loss: 0.0024 - coeff_determination: -11014.5127 - val_loss: 0.0024 - val_coeff_determination: -11509.4961\n",
      "Epoch 21/300\n",
      "12/12 [==============================] - 4s 340ms/step - loss: 0.0024 - coeff_determination: -11914.2002 - val_loss: 0.0024 - val_coeff_determination: -12153.0078\n",
      "Epoch 22/300\n",
      "12/12 [==============================] - 4s 350ms/step - loss: 0.0024 - coeff_determination: -11614.6250 - val_loss: 0.0024 - val_coeff_determination: -11725.8477\n",
      "Epoch 23/300\n",
      "12/12 [==============================] - 4s 343ms/step - loss: 0.0025 - coeff_determination: -11834.2656 - val_loss: 0.0024 - val_coeff_determination: -12049.3438\n",
      "Epoch 24/300\n",
      "12/12 [==============================] - 4s 342ms/step - loss: 0.0024 - coeff_determination: -11645.8008 - val_loss: 0.0024 - val_coeff_determination: -11070.2598\n",
      "Epoch 25/300\n",
      "12/12 [==============================] - 4s 342ms/step - loss: 0.0024 - coeff_determination: -10960.5596 - val_loss: 0.0024 - val_coeff_determination: -10059.2617\n",
      "Epoch 26/300\n",
      "12/12 [==============================] - 4s 348ms/step - loss: 0.0024 - coeff_determination: -10213.8193 - val_loss: 0.0024 - val_coeff_determination: -9376.4434\n",
      "Epoch 27/300\n",
      "12/12 [==============================] - 4s 346ms/step - loss: 0.0024 - coeff_determination: -9260.9883 - val_loss: 0.0024 - val_coeff_determination: -8930.7227\n",
      "Epoch 28/300\n",
      "12/12 [==============================] - 4s 344ms/step - loss: 0.0024 - coeff_determination: -9691.2822 - val_loss: 0.0024 - val_coeff_determination: -9430.0654\n",
      "Epoch 29/300\n",
      "12/12 [==============================] - 4s 343ms/step - loss: 0.0024 - coeff_determination: -9170.3818 - val_loss: 0.0024 - val_coeff_determination: -8876.7832\n",
      "Epoch 30/300\n",
      "12/12 [==============================] - 4s 344ms/step - loss: 0.0024 - coeff_determination: -8022.6875 - val_loss: 0.0024 - val_coeff_determination: -7855.2700\n",
      "Epoch 31/300\n",
      "12/12 [==============================] - 4s 344ms/step - loss: 0.0024 - coeff_determination: -8328.9053 - val_loss: 0.0024 - val_coeff_determination: -8265.5381\n",
      "Epoch 32/300\n",
      "12/12 [==============================] - 4s 342ms/step - loss: 0.0024 - coeff_determination: -7643.3872 - val_loss: 0.0024 - val_coeff_determination: -7275.1396\n",
      "Epoch 33/300\n",
      "12/12 [==============================] - 4s 367ms/step - loss: 0.0024 - coeff_determination: -7276.1060 - val_loss: 0.0024 - val_coeff_determination: -7189.6562\n",
      "Epoch 34/300\n",
      "12/12 [==============================] - 4s 344ms/step - loss: 0.0024 - coeff_determination: -7257.1079 - val_loss: 0.0024 - val_coeff_determination: -7225.7944\n",
      "Epoch 35/300\n",
      "12/12 [==============================] - 4s 348ms/step - loss: 0.0024 - coeff_determination: -7112.8364 - val_loss: 0.0024 - val_coeff_determination: -7014.1206\n",
      "Epoch 36/300\n",
      "12/12 [==============================] - 4s 344ms/step - loss: 0.0024 - coeff_determination: -6494.3921 - val_loss: 0.0024 - val_coeff_determination: -6005.9995\n",
      "Epoch 37/300\n",
      "12/12 [==============================] - 4s 343ms/step - loss: 0.0025 - coeff_determination: -5972.2300 - val_loss: 0.0024 - val_coeff_determination: -5947.4814\n",
      "Epoch 38/300\n",
      "12/12 [==============================] - 4s 344ms/step - loss: 0.0024 - coeff_determination: -5993.8882 - val_loss: 0.0024 - val_coeff_determination: -5927.8086\n",
      "Epoch 39/300\n",
      "12/12 [==============================] - 5s 377ms/step - loss: 0.0024 - coeff_determination: -5536.7461 - val_loss: 0.0024 - val_coeff_determination: -5225.5205\n",
      "Epoch 40/300\n",
      "12/12 [==============================] - 4s 352ms/step - loss: 0.0024 - coeff_determination: -5006.8008 - val_loss: 0.0024 - val_coeff_determination: -5144.7637\n",
      "Epoch 41/300\n",
      "12/12 [==============================] - 4s 346ms/step - loss: 0.0024 - coeff_determination: -5801.9058 - val_loss: 0.0024 - val_coeff_determination: -6064.8516\n",
      "Epoch 42/300\n",
      "12/12 [==============================] - 4s 341ms/step - loss: 0.0025 - coeff_determination: -5135.7036 - val_loss: 0.0024 - val_coeff_determination: -4578.7734\n",
      "Epoch 43/300\n",
      "12/12 [==============================] - 4s 342ms/step - loss: 0.0024 - coeff_determination: -5176.3232 - val_loss: 0.0024 - val_coeff_determination: -5548.8198\n",
      "Epoch 44/300\n",
      "12/12 [==============================] - 4s 344ms/step - loss: 0.0024 - coeff_determination: -5400.4897 - val_loss: 0.0024 - val_coeff_determination: -5149.9951\n",
      "Epoch 45/300\n",
      "12/12 [==============================] - 4s 344ms/step - loss: 0.0024 - coeff_determination: -5121.3745 - val_loss: 0.0024 - val_coeff_determination: -4974.7373\n",
      "Epoch 46/300\n",
      "12/12 [==============================] - 4s 344ms/step - loss: 0.0024 - coeff_determination: -4339.9688 - val_loss: 0.0024 - val_coeff_determination: -4196.7979\n",
      "Epoch 47/300\n",
      "12/12 [==============================] - 4s 344ms/step - loss: 0.0024 - coeff_determination: -4385.2466 - val_loss: 0.0024 - val_coeff_determination: -4727.0537\n",
      "Epoch 48/300\n"
     ]
    },
    {
     "name": "stdout",
     "output_type": "stream",
     "text": [
      "12/12 [==============================] - 4s 342ms/step - loss: 0.0024 - coeff_determination: -4645.3110 - val_loss: 0.0024 - val_coeff_determination: -4677.8857\n",
      "Epoch 49/300\n",
      "12/12 [==============================] - 4s 343ms/step - loss: 0.0024 - coeff_determination: -5188.8423 - val_loss: 0.0024 - val_coeff_determination: -5279.5273\n",
      "Epoch 50/300\n",
      "12/12 [==============================] - 4s 342ms/step - loss: 0.0024 - coeff_determination: -4588.0649 - val_loss: 0.0024 - val_coeff_determination: -4017.6692\n",
      "Epoch 51/300\n",
      "12/12 [==============================] - 4s 340ms/step - loss: 0.0024 - coeff_determination: -3835.0867 - val_loss: 0.0024 - val_coeff_determination: -3926.4265\n",
      "Epoch 52/300\n",
      "12/12 [==============================] - 4s 345ms/step - loss: 0.0024 - coeff_determination: -4336.9302 - val_loss: 0.0024 - val_coeff_determination: -4706.8271\n",
      "Epoch 53/300\n",
      "12/12 [==============================] - 4s 343ms/step - loss: 0.0024 - coeff_determination: -4267.6743 - val_loss: 0.0024 - val_coeff_determination: -4095.5591\n",
      "Epoch 54/300\n",
      "12/12 [==============================] - 4s 337ms/step - loss: 0.0024 - coeff_determination: -4053.7502 - val_loss: 0.0024 - val_coeff_determination: -3940.5671\n",
      "Epoch 55/300\n",
      "12/12 [==============================] - 4s 344ms/step - loss: 0.0024 - coeff_determination: -3977.5566 - val_loss: 0.0024 - val_coeff_determination: -3801.8950\n",
      "Epoch 56/300\n",
      "12/12 [==============================] - 4s 340ms/step - loss: 0.0024 - coeff_determination: -3450.1086 - val_loss: 0.0024 - val_coeff_determination: -3288.0327\n",
      "Epoch 57/300\n",
      "12/12 [==============================] - 4s 342ms/step - loss: 0.0024 - coeff_determination: -3036.7151 - val_loss: 0.0024 - val_coeff_determination: -3335.1245\n",
      "Epoch 58/300\n",
      "12/12 [==============================] - 4s 342ms/step - loss: 0.0025 - coeff_determination: -3468.5439 - val_loss: 0.0024 - val_coeff_determination: -3660.5061\n",
      "Epoch 59/300\n",
      "12/12 [==============================] - 4s 340ms/step - loss: 0.0024 - coeff_determination: -3627.0232 - val_loss: 0.0024 - val_coeff_determination: -3719.2017\n",
      "Epoch 60/300\n",
      "12/12 [==============================] - 4s 344ms/step - loss: 0.0025 - coeff_determination: -3807.1741 - val_loss: 0.0024 - val_coeff_determination: -3445.5315\n",
      "Epoch 61/300\n",
      "12/12 [==============================] - 4s 360ms/step - loss: 0.0024 - coeff_determination: -3324.3142 - val_loss: 0.0024 - val_coeff_determination: -3573.5947\n",
      "Epoch 62/300\n",
      "12/12 [==============================] - 4s 344ms/step - loss: 0.0024 - coeff_determination: -3807.5830 - val_loss: 0.0024 - val_coeff_determination: -3882.9160\n",
      "Epoch 63/300\n",
      "12/12 [==============================] - 4s 341ms/step - loss: 0.0024 - coeff_determination: -3419.9424 - val_loss: 0.0024 - val_coeff_determination: -3126.2881\n",
      "Epoch 64/300\n",
      "12/12 [==============================] - 4s 342ms/step - loss: 0.0024 - coeff_determination: -3597.1272 - val_loss: 0.0024 - val_coeff_determination: -3773.2847\n",
      "Epoch 00064: early stopping\n"
     ]
    }
   ],
   "source": [
    "## mode = 'train'\n",
    "if mode == 'train':\n",
    "##        checkpoint = ModelCheckpoint(weights_filepath, monitor='val_loss', verbose=1, save_best_only=True, mode='min',save_weights_only=True)\n",
    "        earlystopping = EarlyStopping(monitor='val_loss', min_delta=0, patience=20, verbose=1, mode='auto', baseline=None, restore_best_weights=False)\n",
    "        callbacks_list = earlystopping ##\n",
    "##        callbacks_list = [checkpoint,earlystopping]\n",
    "        train_history = model.fit(x=swe_train_data, y=swe_train_data, epochs=num_epochs, batch_size=batch_size, callbacks=callbacks_list, validation_split=0.1)\n",
    "        model.save_weights('vae_mod')\n",
    "        # model.load_weights(weights_filepath)\n",
    "\n",
    "        # Encode the training data to generate time-series information\n",
    "    ##   encoded_t = K.eval(encoder(swe_train[:,:,:,:].astype('float32')))[0].numpy()\n",
    "    ##    encoded_v = K.eval(encoder(swe_valid[:,:,:,:].astype('float32')))[0].numpy()\n",
    "\n",
    "    ##    encoded_t = encoded_t.reshape(900,num_latent)\n",
    "    ##    encoded_v = encoded_v.reshape(100,num_latent)\n",
    "\n",
    "##        plt.figure()\n",
    "##        plt.plot(encoded_t[0:10,0],label='Dimension 1')\n",
    "##        plt.plot(encoded_t[0:10,1],label='Dimension 2')\n",
    "##        plt.legend()\n",
    "##        plt.show()\n",
    "\n",
    "##        encoded = np.concatenate((encoded_t,encoded_v),axis=0)\n",
    "##        np.save('VAE_Coefficient_Training_Data.npy',encoded)\n"
   ]
  },
  {
   "cell_type": "code",
   "execution_count": null,
   "metadata": {},
   "outputs": [],
   "source": []
  },
  {
   "cell_type": "code",
   "execution_count": null,
   "metadata": {},
   "outputs": [],
   "source": []
  },
  {
   "cell_type": "code",
   "execution_count": 113,
   "metadata": {},
   "outputs": [
    {
     "data": {
      "image/png": "[encoded data removed]",
      "text/plain": [
       "<Figure size 432x288 with 1 Axes>"
      ]
     },
     "metadata": {
      "needs_background": "light"
     },
     "output_type": "display_data"
    }
   ],
   "source": [
    "if mode == 'train':\n",
    "     fig1 = plt.figure()\n",
    "     plt.plot(train_history.history['loss'],'r')\n",
    "     plt.plot(train_history.history['val_loss'])"
   ]
  },
  {
   "cell_type": "code",
   "execution_count": null,
   "metadata": {},
   "outputs": [],
   "source": []
  },
  {
   "cell_type": "code",
   "execution_count": 114,
   "metadata": {},
   "outputs": [
    {
     "data": {
      "text/plain": [
       "<tensorflow.python.training.tracking.util.CheckpointLoadStatus at 0x14667b4e0>"
      ]
     },
     "execution_count": 114,
     "metadata": {},
     "output_type": "execute_result"
    }
   ],
   "source": [
    "model.load_weights('vae_mod')\n",
    "\n",
    "#recoded = model.predict(swe_valid[time:time+1,:,:,:])"
   ]
  },
  {
   "cell_type": "code",
   "execution_count": 115,
   "metadata": {},
   "outputs": [],
   "source": [
    "generator = model.predict(swe_valid[0:2])"
   ]
  },
  {
   "cell_type": "code",
   "execution_count": 116,
   "metadata": {},
   "outputs": [
    {
     "name": "stdout",
     "output_type": "stream",
     "text": [
      "(2, 64, 64, 1)\n"
     ]
    }
   ],
   "source": [
    "print(generator.shape)"
   ]
  },
  {
   "cell_type": "code",
   "execution_count": 117,
   "metadata": {},
   "outputs": [
    {
     "data": {
      "text/plain": [
       "<matplotlib.image.AxesImage at 0x1467c1cf8>"
      ]
     },
     "execution_count": 117,
     "metadata": {},
     "output_type": "execute_result"
    },
    {
     "data": {
      "image/png": "[encoded data removed]",
      "text/plain": [
       "<Figure size 432x288 with 1 Axes>"
      ]
     },
     "metadata": {
      "needs_background": "light"
     },
     "output_type": "display_data"
    },
    {
     "data": {
      "image/png": "[encoded data removed]",
      "text/plain": [
       "<Figure size 432x288 with 1 Axes>"
      ]
     },
     "metadata": {
      "needs_background": "light"
     },
     "output_type": "display_data"
    }
   ],
   "source": [
    "plt.imshow(generator[1,:,:,0])\n",
    "plt.figure()\n",
    "plt.imshow(swe_valid[1,:,:,0])"
   ]
  },
  {
   "cell_type": "code",
   "execution_count": 99,
   "metadata": {},
   "outputs": [
    {
     "data": {
      "image/png": "[encoded data removed]",
      "text/plain": [
       "<Figure size 432x288 with 1 Axes>"
      ]
     },
     "metadata": {
      "needs_background": "light"
     },
     "output_type": "display_data"
    }
   ],
   "source": [
    "\n",
    "\n",
    "encoded_t_arr = K.eval(encoder(swe_train[:,:,:,:].astype('float32')))[0]\n",
    "encoded_v_arr = K.eval(encoder(swe_valid[:,:,:,:].astype('float32')))[0]\n",
    "encoded_t = encoded_t_arr\n",
    "encoded_v = encoded_v_arr\n",
    "\n",
    "\n",
    "\n",
    "plt.figure()\n",
    "plt.plot(encoded_t[0:10,0],label='Dimension 1')\n",
    "plt.plot(encoded_t[0:10,1],label='Dimension 2')\n",
    "plt.plot(encoded_t[0:10,2],label='Dimension 3')\n",
    "plt.plot(encoded_t[0:10,3],label='Dimension 4')\n",
    "plt.legend()\n",
    "plt.show()\n",
    "\n",
    "encoded = np.concatenate((encoded_t,encoded_v),axis=0)\n",
    "np.save('VAE_Coefficient_Training_Data.npy',encoded)\n"
   ]
  },
  {
   "cell_type": "code",
   "execution_count": null,
   "metadata": {},
   "outputs": [],
   "source": []
  },
  {
   "cell_type": "code",
   "execution_count": null,
   "metadata": {},
   "outputs": [],
   "source": []
  },
  {
   "cell_type": "code",
   "execution_count": 80,
   "metadata": {},
   "outputs": [
    {
     "name": "stdout",
     "output_type": "stream",
     "text": [
      "VAE test\n",
      "Epoch 1/300\n",
      " 7/12 [================>.............] - ETA: 1s - loss: 0.0025 - coeff_determination: 0.0000e+00"
     ]
    },
    {
     "ename": "KeyboardInterrupt",
     "evalue": "",
     "output_type": "error",
     "traceback": [
      "\u001b[0;31m---------------------------------------------------------------------------\u001b[0m",
      "\u001b[0;31mKeyboardInterrupt\u001b[0m                         Traceback (most recent call last)",
      "\u001b[0;32m<ipython-input-80-be71cae3b64f>\u001b[0m in \u001b[0;36m<module>\u001b[0;34m\u001b[0m\n\u001b[1;32m      4\u001b[0m     \u001b[0;31m# train the autoencoder\u001b[0m\u001b[0;34m\u001b[0m\u001b[0;34m\u001b[0m\u001b[0;34m\u001b[0m\u001b[0m\n\u001b[1;32m      5\u001b[0m     \u001b[0mprint\u001b[0m\u001b[0;34m(\u001b[0m\u001b[0;34m\"VAE test\"\u001b[0m\u001b[0;34m)\u001b[0m\u001b[0;34m\u001b[0m\u001b[0;34m\u001b[0m\u001b[0m\n\u001b[0;32m----> 6\u001b[0;31m     \u001b[0mhist\u001b[0m \u001b[0;34m=\u001b[0m \u001b[0mmodel\u001b[0m\u001b[0;34m.\u001b[0m\u001b[0mfit\u001b[0m\u001b[0;34m(\u001b[0m\u001b[0mswe_train_data\u001b[0m\u001b[0;34m,\u001b[0m \u001b[0mepochs\u001b[0m\u001b[0;34m=\u001b[0m\u001b[0mnum_epochs\u001b[0m\u001b[0;34m,\u001b[0m \u001b[0mbatch_size\u001b[0m\u001b[0;34m=\u001b[0m\u001b[0mbatch_size\u001b[0m\u001b[0;34m,\u001b[0m \u001b[0mvalidation_split\u001b[0m\u001b[0;34m=\u001b[0m\u001b[0;36m0.1\u001b[0m\u001b[0;34m)\u001b[0m\u001b[0;34m\u001b[0m\u001b[0;34m\u001b[0m\u001b[0m\n\u001b[0m\u001b[1;32m      7\u001b[0m     \u001b[0mmodel\u001b[0m\u001b[0;34m.\u001b[0m\u001b[0msave_weights\u001b[0m\u001b[0;34m(\u001b[0m\u001b[0;34m'vae_mod'\u001b[0m\u001b[0;34m)\u001b[0m\u001b[0;34m\u001b[0m\u001b[0;34m\u001b[0m\u001b[0m\n",
      "\u001b[0;32m~/anaconda3/lib/python3.7/site-packages/tensorflow/python/keras/engine/training.py\u001b[0m in \u001b[0;36m_method_wrapper\u001b[0;34m(self, *args, **kwargs)\u001b[0m\n\u001b[1;32m     64\u001b[0m   \u001b[0;32mdef\u001b[0m \u001b[0m_method_wrapper\u001b[0m\u001b[0;34m(\u001b[0m\u001b[0mself\u001b[0m\u001b[0;34m,\u001b[0m \u001b[0;34m*\u001b[0m\u001b[0margs\u001b[0m\u001b[0;34m,\u001b[0m \u001b[0;34m**\u001b[0m\u001b[0mkwargs\u001b[0m\u001b[0;34m)\u001b[0m\u001b[0;34m:\u001b[0m\u001b[0;34m\u001b[0m\u001b[0;34m\u001b[0m\u001b[0m\n\u001b[1;32m     65\u001b[0m     \u001b[0;32mif\u001b[0m \u001b[0;32mnot\u001b[0m \u001b[0mself\u001b[0m\u001b[0;34m.\u001b[0m\u001b[0m_in_multi_worker_mode\u001b[0m\u001b[0;34m(\u001b[0m\u001b[0;34m)\u001b[0m\u001b[0;34m:\u001b[0m  \u001b[0;31m# pylint: disable=protected-access\u001b[0m\u001b[0;34m\u001b[0m\u001b[0;34m\u001b[0m\u001b[0m\n\u001b[0;32m---> 66\u001b[0;31m       \u001b[0;32mreturn\u001b[0m \u001b[0mmethod\u001b[0m\u001b[0;34m(\u001b[0m\u001b[0mself\u001b[0m\u001b[0;34m,\u001b[0m \u001b[0;34m*\u001b[0m\u001b[0margs\u001b[0m\u001b[0;34m,\u001b[0m \u001b[0;34m**\u001b[0m\u001b[0mkwargs\u001b[0m\u001b[0;34m)\u001b[0m\u001b[0;34m\u001b[0m\u001b[0;34m\u001b[0m\u001b[0m\n\u001b[0m\u001b[1;32m     67\u001b[0m \u001b[0;34m\u001b[0m\u001b[0m\n\u001b[1;32m     68\u001b[0m     \u001b[0;31m# Running inside `run_distribute_coordinator` already.\u001b[0m\u001b[0;34m\u001b[0m\u001b[0;34m\u001b[0m\u001b[0;34m\u001b[0m\u001b[0m\n",
      "\u001b[0;32m~/anaconda3/lib/python3.7/site-packages/tensorflow/python/keras/engine/training.py\u001b[0m in \u001b[0;36mfit\u001b[0;34m(self, x, y, batch_size, epochs, verbose, callbacks, validation_split, validation_data, shuffle, class_weight, sample_weight, initial_epoch, steps_per_epoch, validation_steps, validation_batch_size, validation_freq, max_queue_size, workers, use_multiprocessing)\u001b[0m\n\u001b[1;32m    846\u001b[0m                 batch_size=batch_size):\n\u001b[1;32m    847\u001b[0m               \u001b[0mcallbacks\u001b[0m\u001b[0;34m.\u001b[0m\u001b[0mon_train_batch_begin\u001b[0m\u001b[0;34m(\u001b[0m\u001b[0mstep\u001b[0m\u001b[0;34m)\u001b[0m\u001b[0;34m\u001b[0m\u001b[0;34m\u001b[0m\u001b[0m\n\u001b[0;32m--> 848\u001b[0;31m               \u001b[0mtmp_logs\u001b[0m \u001b[0;34m=\u001b[0m \u001b[0mtrain_function\u001b[0m\u001b[0;34m(\u001b[0m\u001b[0miterator\u001b[0m\u001b[0;34m)\u001b[0m\u001b[0;34m\u001b[0m\u001b[0;34m\u001b[0m\u001b[0m\n\u001b[0m\u001b[1;32m    849\u001b[0m               \u001b[0;31m# Catch OutOfRangeError for Datasets of unknown size.\u001b[0m\u001b[0;34m\u001b[0m\u001b[0;34m\u001b[0m\u001b[0;34m\u001b[0m\u001b[0m\n\u001b[1;32m    850\u001b[0m               \u001b[0;31m# This blocks until the batch has finished executing.\u001b[0m\u001b[0;34m\u001b[0m\u001b[0;34m\u001b[0m\u001b[0;34m\u001b[0m\u001b[0m\n",
      "\u001b[0;32m~/anaconda3/lib/python3.7/site-packages/tensorflow/python/eager/def_function.py\u001b[0m in \u001b[0;36m__call__\u001b[0;34m(self, *args, **kwds)\u001b[0m\n\u001b[1;32m    578\u001b[0m         \u001b[0mxla_context\u001b[0m\u001b[0;34m.\u001b[0m\u001b[0mExit\u001b[0m\u001b[0;34m(\u001b[0m\u001b[0;34m)\u001b[0m\u001b[0;34m\u001b[0m\u001b[0;34m\u001b[0m\u001b[0m\n\u001b[1;32m    579\u001b[0m     \u001b[0;32melse\u001b[0m\u001b[0;34m:\u001b[0m\u001b[0;34m\u001b[0m\u001b[0;34m\u001b[0m\u001b[0m\n\u001b[0;32m--> 580\u001b[0;31m       \u001b[0mresult\u001b[0m \u001b[0;34m=\u001b[0m \u001b[0mself\u001b[0m\u001b[0;34m.\u001b[0m\u001b[0m_call\u001b[0m\u001b[0;34m(\u001b[0m\u001b[0;34m*\u001b[0m\u001b[0margs\u001b[0m\u001b[0;34m,\u001b[0m \u001b[0;34m**\u001b[0m\u001b[0mkwds\u001b[0m\u001b[0;34m)\u001b[0m\u001b[0;34m\u001b[0m\u001b[0;34m\u001b[0m\u001b[0m\n\u001b[0m\u001b[1;32m    581\u001b[0m \u001b[0;34m\u001b[0m\u001b[0m\n\u001b[1;32m    582\u001b[0m     \u001b[0;32mif\u001b[0m \u001b[0mtracing_count\u001b[0m \u001b[0;34m==\u001b[0m \u001b[0mself\u001b[0m\u001b[0;34m.\u001b[0m\u001b[0m_get_tracing_count\u001b[0m\u001b[0;34m(\u001b[0m\u001b[0;34m)\u001b[0m\u001b[0;34m:\u001b[0m\u001b[0;34m\u001b[0m\u001b[0;34m\u001b[0m\u001b[0m\n",
      "\u001b[0;32m~/anaconda3/lib/python3.7/site-packages/tensorflow/python/eager/def_function.py\u001b[0m in \u001b[0;36m_call\u001b[0;34m(self, *args, **kwds)\u001b[0m\n\u001b[1;32m    609\u001b[0m       \u001b[0;31m# In this case we have created variables on the first call, so we run the\u001b[0m\u001b[0;34m\u001b[0m\u001b[0;34m\u001b[0m\u001b[0;34m\u001b[0m\u001b[0m\n\u001b[1;32m    610\u001b[0m       \u001b[0;31m# defunned version which is guaranteed to never create variables.\u001b[0m\u001b[0;34m\u001b[0m\u001b[0;34m\u001b[0m\u001b[0;34m\u001b[0m\u001b[0m\n\u001b[0;32m--> 611\u001b[0;31m       \u001b[0;32mreturn\u001b[0m \u001b[0mself\u001b[0m\u001b[0;34m.\u001b[0m\u001b[0m_stateless_fn\u001b[0m\u001b[0;34m(\u001b[0m\u001b[0;34m*\u001b[0m\u001b[0margs\u001b[0m\u001b[0;34m,\u001b[0m \u001b[0;34m**\u001b[0m\u001b[0mkwds\u001b[0m\u001b[0;34m)\u001b[0m  \u001b[0;31m# pylint: disable=not-callable\u001b[0m\u001b[0;34m\u001b[0m\u001b[0;34m\u001b[0m\u001b[0m\n\u001b[0m\u001b[1;32m    612\u001b[0m     \u001b[0;32melif\u001b[0m \u001b[0mself\u001b[0m\u001b[0;34m.\u001b[0m\u001b[0m_stateful_fn\u001b[0m \u001b[0;32mis\u001b[0m \u001b[0;32mnot\u001b[0m \u001b[0;32mNone\u001b[0m\u001b[0;34m:\u001b[0m\u001b[0;34m\u001b[0m\u001b[0;34m\u001b[0m\u001b[0m\n\u001b[1;32m    613\u001b[0m       \u001b[0;31m# Release the lock early so that multiple threads can perform the call\u001b[0m\u001b[0;34m\u001b[0m\u001b[0;34m\u001b[0m\u001b[0;34m\u001b[0m\u001b[0m\n",
      "\u001b[0;32m~/anaconda3/lib/python3.7/site-packages/tensorflow/python/eager/function.py\u001b[0m in \u001b[0;36m__call__\u001b[0;34m(self, *args, **kwargs)\u001b[0m\n\u001b[1;32m   2418\u001b[0m     \u001b[0;32mwith\u001b[0m \u001b[0mself\u001b[0m\u001b[0;34m.\u001b[0m\u001b[0m_lock\u001b[0m\u001b[0;34m:\u001b[0m\u001b[0;34m\u001b[0m\u001b[0;34m\u001b[0m\u001b[0m\n\u001b[1;32m   2419\u001b[0m       \u001b[0mgraph_function\u001b[0m\u001b[0;34m,\u001b[0m \u001b[0margs\u001b[0m\u001b[0;34m,\u001b[0m \u001b[0mkwargs\u001b[0m \u001b[0;34m=\u001b[0m \u001b[0mself\u001b[0m\u001b[0;34m.\u001b[0m\u001b[0m_maybe_define_function\u001b[0m\u001b[0;34m(\u001b[0m\u001b[0margs\u001b[0m\u001b[0;34m,\u001b[0m \u001b[0mkwargs\u001b[0m\u001b[0;34m)\u001b[0m\u001b[0;34m\u001b[0m\u001b[0;34m\u001b[0m\u001b[0m\n\u001b[0;32m-> 2420\u001b[0;31m     \u001b[0;32mreturn\u001b[0m \u001b[0mgraph_function\u001b[0m\u001b[0;34m.\u001b[0m\u001b[0m_filtered_call\u001b[0m\u001b[0;34m(\u001b[0m\u001b[0margs\u001b[0m\u001b[0;34m,\u001b[0m \u001b[0mkwargs\u001b[0m\u001b[0;34m)\u001b[0m  \u001b[0;31m# pylint: disable=protected-access\u001b[0m\u001b[0;34m\u001b[0m\u001b[0;34m\u001b[0m\u001b[0m\n\u001b[0m\u001b[1;32m   2421\u001b[0m \u001b[0;34m\u001b[0m\u001b[0m\n\u001b[1;32m   2422\u001b[0m   \u001b[0;34m@\u001b[0m\u001b[0mproperty\u001b[0m\u001b[0;34m\u001b[0m\u001b[0;34m\u001b[0m\u001b[0m\n",
      "\u001b[0;32m~/anaconda3/lib/python3.7/site-packages/tensorflow/python/eager/function.py\u001b[0m in \u001b[0;36m_filtered_call\u001b[0;34m(self, args, kwargs)\u001b[0m\n\u001b[1;32m   1663\u001b[0m          if isinstance(t, (ops.Tensor,\n\u001b[1;32m   1664\u001b[0m                            resource_variable_ops.BaseResourceVariable))),\n\u001b[0;32m-> 1665\u001b[0;31m         self.captured_inputs)\n\u001b[0m\u001b[1;32m   1666\u001b[0m \u001b[0;34m\u001b[0m\u001b[0m\n\u001b[1;32m   1667\u001b[0m   \u001b[0;32mdef\u001b[0m \u001b[0m_call_flat\u001b[0m\u001b[0;34m(\u001b[0m\u001b[0mself\u001b[0m\u001b[0;34m,\u001b[0m \u001b[0margs\u001b[0m\u001b[0;34m,\u001b[0m \u001b[0mcaptured_inputs\u001b[0m\u001b[0;34m,\u001b[0m \u001b[0mcancellation_manager\u001b[0m\u001b[0;34m=\u001b[0m\u001b[0;32mNone\u001b[0m\u001b[0;34m)\u001b[0m\u001b[0;34m:\u001b[0m\u001b[0;34m\u001b[0m\u001b[0;34m\u001b[0m\u001b[0m\n",
      "\u001b[0;32m~/anaconda3/lib/python3.7/site-packages/tensorflow/python/eager/function.py\u001b[0m in \u001b[0;36m_call_flat\u001b[0;34m(self, args, captured_inputs, cancellation_manager)\u001b[0m\n\u001b[1;32m   1744\u001b[0m       \u001b[0;31m# No tape is watching; skip to running the function.\u001b[0m\u001b[0;34m\u001b[0m\u001b[0;34m\u001b[0m\u001b[0;34m\u001b[0m\u001b[0m\n\u001b[1;32m   1745\u001b[0m       return self._build_call_outputs(self._inference_function.call(\n\u001b[0;32m-> 1746\u001b[0;31m           ctx, args, cancellation_manager=cancellation_manager))\n\u001b[0m\u001b[1;32m   1747\u001b[0m     forward_backward = self._select_forward_and_backward_functions(\n\u001b[1;32m   1748\u001b[0m         \u001b[0margs\u001b[0m\u001b[0;34m,\u001b[0m\u001b[0;34m\u001b[0m\u001b[0;34m\u001b[0m\u001b[0m\n",
      "\u001b[0;32m~/anaconda3/lib/python3.7/site-packages/tensorflow/python/eager/function.py\u001b[0m in \u001b[0;36mcall\u001b[0;34m(self, ctx, args, cancellation_manager)\u001b[0m\n\u001b[1;32m    596\u001b[0m               \u001b[0minputs\u001b[0m\u001b[0;34m=\u001b[0m\u001b[0margs\u001b[0m\u001b[0;34m,\u001b[0m\u001b[0;34m\u001b[0m\u001b[0;34m\u001b[0m\u001b[0m\n\u001b[1;32m    597\u001b[0m               \u001b[0mattrs\u001b[0m\u001b[0;34m=\u001b[0m\u001b[0mattrs\u001b[0m\u001b[0;34m,\u001b[0m\u001b[0;34m\u001b[0m\u001b[0;34m\u001b[0m\u001b[0m\n\u001b[0;32m--> 598\u001b[0;31m               ctx=ctx)\n\u001b[0m\u001b[1;32m    599\u001b[0m         \u001b[0;32melse\u001b[0m\u001b[0;34m:\u001b[0m\u001b[0;34m\u001b[0m\u001b[0;34m\u001b[0m\u001b[0m\n\u001b[1;32m    600\u001b[0m           outputs = execute.execute_with_cancellation(\n",
      "\u001b[0;32m~/anaconda3/lib/python3.7/site-packages/tensorflow/python/eager/execute.py\u001b[0m in \u001b[0;36mquick_execute\u001b[0;34m(op_name, num_outputs, inputs, attrs, ctx, name)\u001b[0m\n\u001b[1;32m     58\u001b[0m     \u001b[0mctx\u001b[0m\u001b[0;34m.\u001b[0m\u001b[0mensure_initialized\u001b[0m\u001b[0;34m(\u001b[0m\u001b[0;34m)\u001b[0m\u001b[0;34m\u001b[0m\u001b[0;34m\u001b[0m\u001b[0m\n\u001b[1;32m     59\u001b[0m     tensors = pywrap_tfe.TFE_Py_Execute(ctx._handle, device_name, op_name,\n\u001b[0;32m---> 60\u001b[0;31m                                         inputs, attrs, num_outputs)\n\u001b[0m\u001b[1;32m     61\u001b[0m   \u001b[0;32mexcept\u001b[0m \u001b[0mcore\u001b[0m\u001b[0;34m.\u001b[0m\u001b[0m_NotOkStatusException\u001b[0m \u001b[0;32mas\u001b[0m \u001b[0me\u001b[0m\u001b[0;34m:\u001b[0m\u001b[0;34m\u001b[0m\u001b[0;34m\u001b[0m\u001b[0m\n\u001b[1;32m     62\u001b[0m     \u001b[0;32mif\u001b[0m \u001b[0mname\u001b[0m \u001b[0;32mis\u001b[0m \u001b[0;32mnot\u001b[0m \u001b[0;32mNone\u001b[0m\u001b[0;34m:\u001b[0m\u001b[0;34m\u001b[0m\u001b[0;34m\u001b[0m\u001b[0m\n",
      "\u001b[0;31mKeyboardInterrupt\u001b[0m: "
     ]
    }
   ],
   "source": [
    "#######  DON'T USE ######\n",
    "mode = 'train'\n",
    "if mode == 'train':\n",
    "    # train the autoencoder\n",
    "    print(\"VAE test\")\n",
    "    hist = model.fit(swe_train_data, epochs=num_epochs, batch_size=batch_size, validation_split=0.1)\n",
    "    model.save_weights('vae_mod')\n"
   ]
  },
  {
   "cell_type": "code",
   "execution_count": null,
   "metadata": {},
   "outputs": [],
   "source": [
    "model.load_weights('vae_mod')\n",
    "\n",
    "# Check for validation\n",
    "for time in range(0,10):\n",
    "    recoded = model.predict(swe_valid[time:time+1,:,:,:])\n",
    "    true = preproc.inverse_transform(swe_valid[time:time+1,:,:,:].reshape(1,4096)).reshape(64,64)\n",
    "    recoded = preproc.inverse_transform(recoded.reshape(1,4096)).reshape(64,64)\n",
    "\n",
    "    fig, ax = plt.subplots(nrows=1,ncols=2,figsize=(6,6))\n",
    "    cs1 = ax[0].imshow(true,label='input')\n",
    "    cs2 = ax[1].imshow(recoded,label='decoded')\n",
    "\n",
    "    for i in range(2):\n",
    "        ax[i].set_xlabel('x')\n",
    "        ax[i].set_ylabel('y')\n",
    "            \n",
    "    fig.colorbar(cs1,ax=ax[0],fraction=0.046, pad=0.04)\n",
    "    fig.colorbar(cs2,ax=ax[1],fraction=0.046, pad=0.04)\n",
    "    ax[0].set_title(r'True $q_1$')\n",
    "    ax[1].set_title(r'Reconstructed $q_1$')\n",
    "    plt.subplots_adjust(wspace=0.5,hspace=-0.3)\n",
    "    plt.tight_layout()\n",
    "    plt.show()"
   ]
  }
 ],
 "metadata": {
  "anaconda-cloud": {},
  "celltoolbar": "Slideshow",
  "kernelspec": {
   "display_name": "Python 3",
   "language": "python",
   "name": "python3"
  },
  "language_info": {
   "codemirror_mode": {
    "name": "ipython",
    "version": 3
   },
   "file_extension": ".py",
   "mimetype": "text/x-python",
   "name": "python",
   "nbconvert_exporter": "python",
   "pygments_lexer": "ipython3",
   "version": "3.7.3"
  }
 },
 "nbformat": 4,
 "nbformat_minor": 2
}
