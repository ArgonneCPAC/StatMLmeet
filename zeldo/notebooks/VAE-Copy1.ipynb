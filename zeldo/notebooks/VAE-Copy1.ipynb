{
 "cells": [
  {
   "cell_type": "code",
   "execution_count": 99,
   "metadata": {},
   "outputs": [],
   "source": [
    "# Activate TF2 behavior:\n",
    "from tensorflow.python import tf2\n",
    "if not tf2.enabled():\n",
    "  import tensorflow.compat.v2 as tf\n",
    "  tf.enable_v2_behavior()\n",
    "  assert tf2.enabled()\n",
    "\n",
    "\n",
    "import numpy as np\n",
    "import tensorflow as tf\n",
    "\n",
    "# Set seeds\n",
    "np.random.seed(10)\n",
    "tf.random.set_seed(10)\n",
    "\n",
    "from tensorflow.keras.layers import Input, Dense, LSTM, Lambda, Dropout, Flatten, Reshape, Conv2DTranspose\n",
    "from tensorflow.keras.layers import Conv2D, UpSampling2D, MaxPooling2D\n",
    "\n",
    "from tensorflow.keras import optimizers, models, regularizers\n",
    "from tensorflow.keras import backend as K\n",
    "from tensorflow.keras.callbacks import ModelCheckpoint, EarlyStopping\n",
    "from tensorflow.keras.models import load_model, Sequential, Model\n",
    "from tensorflow.keras.regularizers import l1\n",
    "from tensorflow.keras.utils import plot_model\n",
    "from keras.losses import mse, binary_crossentropy\n",
    "\n",
    "from sklearn.pipeline import Pipeline\n",
    "from sklearn.preprocessing import StandardScaler, MinMaxScaler\n",
    "\n",
    "import matplotlib.pyplot as plt\n",
    "\n",
    "mode = 'train'\n"
   ]
  },
  {
   "cell_type": "code",
   "execution_count": 100,
   "metadata": {},
   "outputs": [],
   "source": [
    "num_epochs = 20 #5000\n",
    "batch_size = 16\n",
    "learning_rate = 4e-3 #1e-4\n",
    "decay_rate = 1e-3 # 1e-1\n",
    "\n",
    "latent_dim = 2*2*2\n",
    "epsilon_mean = 1.0\n",
    "epsilon_std = 1e-2"
   ]
  },
  {
   "cell_type": "code",
   "execution_count": 101,
   "metadata": {},
   "outputs": [],
   "source": [
    "output = np.load(\"/Users/dongxiaofeng/Documents/GitHub/zeldo/Zeldotest.np.npy\")\n",
    "output = (output - output.min() )/(output.max() - output.min())\n",
    "\n",
    "swe_train = output[0:800,:,:]\n",
    "swe_valid = output[800:1000,:,:]\n",
    "\n",
    "swe_train = swe_train.reshape(800,64,64,1)\n",
    "swe_valid = swe_valid.reshape(200,64,64,1)\n",
    "\n",
    "# # Visualize transformations\n",
    "# plt.figure()\n",
    "# plt.imshow(swe_train[0].reshape(64,64))\n",
    "# plt.show()\n",
    "\n",
    "# plt.figure()\n",
    "# plt.imshow(swe_train[1].reshape(64,64))\n",
    "# plt.show()\n",
    "\n",
    "# plt.figure()\n",
    "# plt.imshow(swe_train[2].reshape(64,64))\n",
    "# plt.show()\n",
    "# exit()\n",
    "\n",
    "# Shuffle\n",
    "swe_train_data = np.copy(swe_train)\n",
    "swe_valid_data = np.copy(swe_valid)\n",
    "\n",
    "np.random.shuffle(swe_train_data)\n",
    "np.random.shuffle(swe_valid_data)\n",
    "\n",
    "\n",
    "def coeff_determination(y_pred, y_true): #Order of function inputs is important here        \n",
    "    SS_res =  K.sum(K.square( y_true-y_pred )) \n",
    "    SS_tot = K.sum(K.square( y_true - K.mean(y_true) ) )\n",
    "    return ( 1 - SS_res/(SS_tot + K.epsilon()) )"
   ]
  },
  {
   "cell_type": "code",
   "execution_count": 102,
   "metadata": {},
   "outputs": [
    {
     "name": "stdout",
     "output_type": "stream",
     "text": [
      "(200, 64, 64, 1)\n"
     ]
    }
   ],
   "source": [
    "print(swe_valid.shape)\n"
   ]
  },
  {
   "cell_type": "code",
   "execution_count": 103,
   "metadata": {},
   "outputs": [],
   "source": [
    "# reparameterization trick\n",
    "# instead of sampling from Q(z|X), sample eps = N(0,I)\n",
    "# then z = z_mean + sqrt(var)*eps\n",
    "def sampling(args):\n",
    "    \"\"\"Reparameterization trick by sampling fr an isotropic unit Gaussian.\n",
    "     Arguments\n",
    "        args (tensor): mean and log of variance of Q(z|X)\n",
    "     Returns\n",
    "        z (tensor): sampled latent vector\n",
    "    \"\"\"\n",
    "\n",
    "    z_mean, z_log_var = args\n",
    "    batch = K.shape(z_mean)[0]\n",
    "    dim = K.int_shape(z_mean)[1]\n",
    "    # by default, random_normal has mean=0 and std=1.0\n",
    "    epsilon = K.random_normal(shape=(batch, dim), mean=epsilon_mean, stddev=epsilon_std)\n",
    "    return z_mean + K.exp(0.5 * z_log_var) * epsilon\n"
   ]
  },
  {
   "cell_type": "code",
   "execution_count": 104,
   "metadata": {},
   "outputs": [
    {
     "name": "stdout",
     "output_type": "stream",
     "text": [
      "Model: \"encoder\"\n",
      "__________________________________________________________________________________________________\n",
      "Layer (type)                    Output Shape         Param #     Connected to                     \n",
      "==================================================================================================\n",
      "Field (InputLayer)              [(None, 64, 64, 1)]  0                                            \n",
      "__________________________________________________________________________________________________\n",
      "conv2d_66 (Conv2D)              (None, 64, 64, 30)   300         Field[0][0]                      \n",
      "__________________________________________________________________________________________________\n",
      "max_pooling2d_30 (MaxPooling2D) (None, 32, 32, 30)   0           conv2d_66[0][0]                  \n",
      "__________________________________________________________________________________________________\n",
      "conv2d_67 (Conv2D)              (None, 32, 32, 25)   6775        max_pooling2d_30[0][0]           \n",
      "__________________________________________________________________________________________________\n",
      "max_pooling2d_31 (MaxPooling2D) (None, 16, 16, 25)   0           conv2d_67[0][0]                  \n",
      "__________________________________________________________________________________________________\n",
      "conv2d_68 (Conv2D)              (None, 16, 16, 20)   4520        max_pooling2d_31[0][0]           \n",
      "__________________________________________________________________________________________________\n",
      "max_pooling2d_32 (MaxPooling2D) (None, 8, 8, 20)     0           conv2d_68[0][0]                  \n",
      "__________________________________________________________________________________________________\n",
      "conv2d_69 (Conv2D)              (None, 8, 8, 15)     2715        max_pooling2d_32[0][0]           \n",
      "__________________________________________________________________________________________________\n",
      "max_pooling2d_33 (MaxPooling2D) (None, 4, 4, 15)     0           conv2d_69[0][0]                  \n",
      "__________________________________________________________________________________________________\n",
      "conv2d_70 (Conv2D)              (None, 4, 4, 2)      272         max_pooling2d_33[0][0]           \n",
      "__________________________________________________________________________________________________\n",
      "flatten_6 (Flatten)             (None, 32)           0           conv2d_70[0][0]                  \n",
      "__________________________________________________________________________________________________\n",
      "dense_12 (Dense)                (None, 16)           528         flatten_6[0][0]                  \n",
      "__________________________________________________________________________________________________\n",
      "z_mean (Dense)                  (None, 8)            136         dense_12[0][0]                   \n",
      "__________________________________________________________________________________________________\n",
      "z_log_var (Dense)               (None, 8)            136         dense_12[0][0]                   \n",
      "__________________________________________________________________________________________________\n",
      "z (Lambda)                      (None, 8)            0           z_mean[0][0]                     \n",
      "                                                                 z_log_var[0][0]                  \n",
      "==================================================================================================\n",
      "Total params: 15,382\n",
      "Trainable params: 15,382\n",
      "Non-trainable params: 0\n",
      "__________________________________________________________________________________________________\n"
     ]
    }
   ],
   "source": [
    "## Encoder\n",
    "    \n",
    "encoder_inputs = Input(shape=(64,64,1),name='Field')\n",
    "# Encode   \n",
    "x = Conv2D(30,kernel_size=(3,3),activation='relu',padding='same')(encoder_inputs)\n",
    "enc_l2 = MaxPooling2D(pool_size=(2, 2),padding='same')(x)\n",
    "\n",
    "x = Conv2D(25,kernel_size=(3,3),activation='relu',padding='same')(enc_l2)\n",
    "enc_l3 = MaxPooling2D(pool_size=(2, 2),padding='same')(x)\n",
    "\n",
    "x = Conv2D(20,kernel_size=(3,3),activation='relu',padding='same')(enc_l3)\n",
    "enc_l4 = MaxPooling2D(pool_size=(2, 2),padding='same')(x)\n",
    "\n",
    "x = Conv2D(15,kernel_size=(3,3),activation='relu',padding='same')(enc_l4)\n",
    "enc_l5 = MaxPooling2D(pool_size=(2, 2),padding='same')(x)\n",
    "\n",
    "x = Conv2D(2,kernel_size=(3,3),activation=None,padding='same')(enc_l5)\n",
    "encoded = MaxPooling2D(pool_size=(2, 2),padding='same')(x)\n",
    "\n",
    "x = Flatten()(x)\n",
    "#x = Dense(32, activation='linear')(x)\n",
    "x = Dense(16, activation='linear')(x)\n",
    "\n",
    "z_mean = Dense(latent_dim, name='z_mean')(x)\n",
    "z_log_var = Dense(latent_dim, name='z_log_var')(x)\n",
    "\n",
    "# use reparameterization trick to push the sampling out as input\n",
    "# note that \"output_shape\" isn't necessary with the TensorFlow backend\n",
    "z = Lambda(sampling, output_shape=(latent_dim,), name='z')([z_mean, z_log_var])\n",
    "\n",
    "# instantiate encoder model\n",
    "encoder = Model(encoder_inputs, [z_mean, z_log_var, z], name='encoder')\n",
    "encoder.summary()"
   ]
  },
  {
   "cell_type": "code",
   "execution_count": 105,
   "metadata": {
    "scrolled": true
   },
   "outputs": [
    {
     "name": "stdout",
     "output_type": "stream",
     "text": [
      "Model: \"model_6\"\n",
      "_________________________________________________________________\n",
      "Layer (type)                 Output Shape              Param #   \n",
      "=================================================================\n",
      "z_sampling (InputLayer)      [(None, 8)]               0         \n",
      "_________________________________________________________________\n",
      "dense_13 (Dense)             (None, 8)                 72        \n",
      "_________________________________________________________________\n",
      "reshape_6 (Reshape)          (None, 2, 2, 2)           0         \n",
      "_________________________________________________________________\n",
      "conv2d_71 (Conv2D)           (None, 2, 2, 2)           38        \n",
      "_________________________________________________________________\n",
      "up_sampling2d_30 (UpSampling (None, 4, 4, 2)           0         \n",
      "_________________________________________________________________\n",
      "conv2d_72 (Conv2D)           (None, 4, 4, 15)          285       \n",
      "_________________________________________________________________\n",
      "up_sampling2d_31 (UpSampling (None, 8, 8, 15)          0         \n",
      "_________________________________________________________________\n",
      "conv2d_73 (Conv2D)           (None, 8, 8, 20)          2720      \n",
      "_________________________________________________________________\n",
      "up_sampling2d_32 (UpSampling (None, 16, 16, 20)        0         \n",
      "_________________________________________________________________\n",
      "conv2d_74 (Conv2D)           (None, 16, 16, 25)        4525      \n",
      "_________________________________________________________________\n",
      "up_sampling2d_33 (UpSampling (None, 32, 32, 25)        0         \n",
      "_________________________________________________________________\n",
      "conv2d_75 (Conv2D)           (None, 32, 32, 30)        6780      \n",
      "_________________________________________________________________\n",
      "up_sampling2d_34 (UpSampling (None, 64, 64, 30)        0         \n",
      "_________________________________________________________________\n",
      "conv2d_76 (Conv2D)           (None, 64, 64, 1)         271       \n",
      "=================================================================\n",
      "Total params: 14,691\n",
      "Trainable params: 14,691\n",
      "Non-trainable params: 0\n",
      "_________________________________________________________________\n",
      "Failed to import pydot. You must install pydot and graphviz for `pydotprint` to work.\n",
      "Failed to import pydot. You must install pydot and graphviz for `pydotprint` to work.\n"
     ]
    }
   ],
   "source": [
    "# build decoder model\n",
    "latent_inputs = Input(shape=(latent_dim,), name='z_sampling')\n",
    "#x = Dense(16, activation='linear')(latent_inputs)\n",
    "#x = Dense(32, activation='linear')(x)\n",
    "x = Dense(2*2*2, activation='linear')(latent_inputs)\n",
    "x = Reshape((2, 2, 2))(x)\n",
    "\n",
    "# decoder_inputs = Input(shape=(2,2,2),name='decoded')\n",
    "    \n",
    "x = Conv2D(2,kernel_size=(3,3),activation=None,padding='same')(x)\n",
    "dec_l1 = UpSampling2D(size=(2, 2))(x)\n",
    "\n",
    "x = Conv2D(15,kernel_size=(3,3),activation='relu',padding='same')(dec_l1)\n",
    "dec_l2 = UpSampling2D(size=(2, 2))(x)\n",
    "\n",
    "x = Conv2D(20,kernel_size=(3,3),activation='relu',padding='same')(dec_l2)\n",
    "dec_l3 = UpSampling2D(size=(2, 2))(x)\n",
    "\n",
    "x = Conv2D(25,kernel_size=(3,3),activation='relu',padding='same')(dec_l3)\n",
    "dec_l4 = UpSampling2D(size=(2, 2))(x)\n",
    "\n",
    "x = Conv2D(30,kernel_size=(3,3),activation='relu',padding='same')(dec_l4)\n",
    "dec_l5 = UpSampling2D(size=(2, 2))(x)\n",
    "\n",
    "decoded = Conv2D(1,kernel_size=(3,3),activation=None,padding='same')(dec_l5)\n",
    "decoder = Model(inputs=latent_inputs,outputs=decoded)\n",
    "\n",
    "# decoder = Model(latent_inputs, outputs, name='decoder')\n",
    "decoder.summary()\n",
    "plot_model(decoder, to_file='vae_cnn_decoder.png', show_shapes=True)\n",
    "\n",
    "# instantiate VAE model\n",
    "#outputs = decoder(encoder(encoder_inputs))\n",
    "# vae = Model(encoder_inputs, outputs, name='vae')\n",
    "\n",
    "plot_model(decoder, to_file='vae_cnn_decoder.png', show_shapes=True)\n"
   ]
  },
  {
   "cell_type": "code",
   "execution_count": 106,
   "metadata": {},
   "outputs": [],
   "source": [
    "## Autoencoder\n",
    "\n",
    "# instantiate VAE model\n",
    "# ae_outputs = decoder(encoder(inputs)[2])\n",
    "ae_outputs = decoder(encoder(encoder_inputs)) \n",
    "model = Model(encoder_inputs, ae_outputs, name='vae')\n"
   ]
  },
  {
   "cell_type": "code",
   "execution_count": 71,
   "metadata": {},
   "outputs": [
    {
     "name": "stdout",
     "output_type": "stream",
     "text": [
      "Requirement already satisfied: pydot in /Users/dongxiaofeng/anaconda3/lib/python3.7/site-packages (1.4.1)\n",
      "Requirement already satisfied: pyparsing>=2.1.4 in /Users/dongxiaofeng/anaconda3/lib/python3.7/site-packages (from pydot) (2.3.1)\n",
      "Requirement already satisfied: graphviz in /Users/dongxiaofeng/anaconda3/lib/python3.7/site-packages (0.14)\n"
     ]
    }
   ],
   "source": [
    "!pip install pydot\n",
    "!pip install graphviz\n",
    "\n",
    "import pydot"
   ]
  },
  {
   "cell_type": "code",
   "execution_count": 107,
   "metadata": {},
   "outputs": [],
   "source": [
    "import pydot"
   ]
  },
  {
   "cell_type": "code",
   "execution_count": 108,
   "metadata": {},
   "outputs": [
    {
     "name": "stdout",
     "output_type": "stream",
     "text": [
      "Model: \"vae\"\n",
      "__________________________________________________________________________________________________\n",
      "Layer (type)                    Output Shape         Param #     Connected to                     \n",
      "==================================================================================================\n",
      "Field (InputLayer)              [(None, 64, 64, 1)]  0                                            \n",
      "__________________________________________________________________________________________________\n",
      "encoder (Model)                 [(None, 8), (None, 8 15382       Field[0][0]                      \n",
      "__________________________________________________________________________________________________\n",
      "model_6 (Model)                 (None, 64, 64, 1)    14691       encoder[1][0]                    \n",
      "                                                                 encoder[1][1]                    \n",
      "                                                                 encoder[1][2]                    \n",
      "__________________________________________________________________________________________________\n",
      "conv2d_66 (Conv2D)              (None, 64, 64, 30)   300         Field[0][0]                      \n",
      "__________________________________________________________________________________________________\n",
      "max_pooling2d_30 (MaxPooling2D) (None, 32, 32, 30)   0           conv2d_66[0][0]                  \n",
      "__________________________________________________________________________________________________\n",
      "conv2d_67 (Conv2D)              (None, 32, 32, 25)   6775        max_pooling2d_30[0][0]           \n",
      "__________________________________________________________________________________________________\n",
      "max_pooling2d_31 (MaxPooling2D) (None, 16, 16, 25)   0           conv2d_67[0][0]                  \n",
      "__________________________________________________________________________________________________\n",
      "conv2d_68 (Conv2D)              (None, 16, 16, 20)   4520        max_pooling2d_31[0][0]           \n",
      "__________________________________________________________________________________________________\n",
      "max_pooling2d_32 (MaxPooling2D) (None, 8, 8, 20)     0           conv2d_68[0][0]                  \n",
      "__________________________________________________________________________________________________\n",
      "conv2d_69 (Conv2D)              (None, 8, 8, 15)     2715        max_pooling2d_32[0][0]           \n",
      "__________________________________________________________________________________________________\n",
      "max_pooling2d_33 (MaxPooling2D) (None, 4, 4, 15)     0           conv2d_69[0][0]                  \n",
      "__________________________________________________________________________________________________\n",
      "conv2d_70 (Conv2D)              (None, 4, 4, 2)      272         max_pooling2d_33[0][0]           \n",
      "__________________________________________________________________________________________________\n",
      "flatten_6 (Flatten)             (None, 32)           0           conv2d_70[0][0]                  \n",
      "__________________________________________________________________________________________________\n",
      "dense_12 (Dense)                (None, 16)           528         flatten_6[0][0]                  \n",
      "__________________________________________________________________________________________________\n",
      "z_log_var (Dense)               (None, 8)            136         dense_12[0][0]                   \n",
      "__________________________________________________________________________________________________\n",
      "z_mean (Dense)                  (None, 8)            136         dense_12[0][0]                   \n",
      "__________________________________________________________________________________________________\n",
      "tf_op_layer_AddV2_10 (TensorFlo [(None, 8)]          0           z_log_var[0][0]                  \n",
      "__________________________________________________________________________________________________\n",
      "tf_op_layer_Square_11 (TensorFl [(None, 8)]          0           z_mean[0][0]                     \n",
      "__________________________________________________________________________________________________\n",
      "tf_op_layer_Reshape_13 (TensorF [(None,)]            0           model_6[1][0]                    \n",
      "__________________________________________________________________________________________________\n",
      "tf_op_layer_Reshape_12 (TensorF [(None,)]            0           Field[0][0]                      \n",
      "__________________________________________________________________________________________________\n",
      "tf_op_layer_Sub_16 (TensorFlowO [(None, 8)]          0           tf_op_layer_AddV2_10[0][0]       \n",
      "                                                                 tf_op_layer_Square_11[0][0]      \n",
      "__________________________________________________________________________________________________\n",
      "tf_op_layer_Exp_5 (TensorFlowOp [(None, 8)]          0           z_log_var[0][0]                  \n",
      "__________________________________________________________________________________________________\n",
      "tf_op_layer_Sub_15 (TensorFlowO [(None,)]            0           tf_op_layer_Reshape_13[0][0]     \n",
      "                                                                 tf_op_layer_Reshape_12[0][0]     \n",
      "__________________________________________________________________________________________________\n",
      "tf_op_layer_Sub_17 (TensorFlowO [(None, 8)]          0           tf_op_layer_Sub_16[0][0]         \n",
      "                                                                 tf_op_layer_Exp_5[0][0]          \n",
      "__________________________________________________________________________________________________\n",
      "tf_op_layer_Square_10 (TensorFl [(None,)]            0           tf_op_layer_Sub_15[0][0]         \n",
      "__________________________________________________________________________________________________\n",
      "tf_op_layer_Sum_5 (TensorFlowOp [(None,)]            0           tf_op_layer_Sub_17[0][0]         \n",
      "__________________________________________________________________________________________________\n",
      "tf_op_layer_Mean_10 (TensorFlow [()]                 0           tf_op_layer_Square_10[0][0]      \n",
      "__________________________________________________________________________________________________\n",
      "tf_op_layer_Mul_5 (TensorFlowOp [(None,)]            0           tf_op_layer_Sum_5[0][0]          \n",
      "__________________________________________________________________________________________________\n",
      "tf_op_layer_AddV2_11 (TensorFlo [(None,)]            0           tf_op_layer_Mean_10[0][0]        \n",
      "                                                                 tf_op_layer_Mul_5[0][0]          \n",
      "__________________________________________________________________________________________________\n",
      "tf_op_layer_Mean_11 (TensorFlow [()]                 0           tf_op_layer_AddV2_11[0][0]       \n",
      "__________________________________________________________________________________________________\n",
      "add_loss_5 (AddLoss)            ()                   0           tf_op_layer_Mean_11[0][0]        \n",
      "==================================================================================================\n",
      "Total params: 30,073\n",
      "Trainable params: 30,073\n",
      "Non-trainable params: 0\n",
      "__________________________________________________________________________________________________\n",
      "Failed to import pydot. You must install pydot and graphviz for `pydotprint` to work.\n"
     ]
    }
   ],
   "source": [
    "\n",
    "# reconstruction_loss = binary_crossentropy(K.flatten(encoder_inputs), K.flatten(ae_outputs))\n",
    "reconstruction_loss = mse(K.flatten(encoder_inputs), K.flatten(ae_outputs))\n",
    "\n",
    "kl_loss = 1 + z_log_var - K.square(z_mean) - K.exp(z_log_var)\n",
    "kl_loss = K.sum(kl_loss, axis=-1)\n",
    "kl_loss *= -0.5\n",
    "vae_loss = K.mean(reconstruction_loss + kl_loss)\n",
    "model.add_loss(vae_loss)\n",
    "model.compile(optimizer='adam')\n",
    "K.set_value(model.optimizer.lr, learning_rate)\n",
    "K.set_value(model.optimizer.decay, decay_rate)\n",
    "model.summary()\n",
    "plot_model(model, to_file='vae_cnn.png', show_shapes=True)\n"
   ]
  },
  {
   "cell_type": "code",
   "execution_count": 109,
   "metadata": {},
   "outputs": [
    {
     "name": "stdout",
     "output_type": "stream",
     "text": [
      "Epoch 1/20\n",
      "45/45 [==============================] - 7s 148ms/step - loss: 0.0028 - val_loss: 0.0025\n",
      "Epoch 2/20\n",
      "45/45 [==============================] - 7s 148ms/step - loss: 0.0024 - val_loss: 0.0025\n",
      "Epoch 3/20\n",
      "45/45 [==============================] - 7s 147ms/step - loss: 0.0024 - val_loss: 0.0025\n",
      "Epoch 4/20\n",
      "45/45 [==============================] - 7s 145ms/step - loss: 0.0024 - val_loss: 0.0025\n",
      "Epoch 5/20\n",
      "45/45 [==============================] - 7s 146ms/step - loss: 0.0024 - val_loss: 0.0025\n",
      "Epoch 6/20\n",
      "45/45 [==============================] - 6s 144ms/step - loss: 0.0024 - val_loss: 0.0025\n",
      "Epoch 7/20\n",
      "45/45 [==============================] - 7s 145ms/step - loss: 0.0024 - val_loss: 0.0025\n",
      "Epoch 8/20\n",
      "45/45 [==============================] - 7s 151ms/step - loss: 0.0024 - val_loss: 0.0025\n",
      "Epoch 9/20\n",
      "45/45 [==============================] - 7s 150ms/step - loss: 0.0024 - val_loss: 0.0025\n",
      "Epoch 10/20\n",
      "45/45 [==============================] - 7s 145ms/step - loss: 0.0024 - val_loss: 0.0025\n",
      "Epoch 11/20\n",
      "45/45 [==============================] - 7s 147ms/step - loss: 0.0024 - val_loss: 0.0025\n",
      "Epoch 12/20\n",
      "45/45 [==============================] - 7s 146ms/step - loss: 0.0024 - val_loss: 0.0025\n",
      "Epoch 13/20\n",
      "45/45 [==============================] - 7s 150ms/step - loss: 0.0024 - val_loss: 0.0025\n",
      "Epoch 14/20\n",
      "45/45 [==============================] - 7s 148ms/step - loss: 0.0024 - val_loss: 0.0025\n",
      "Epoch 15/20\n",
      "45/45 [==============================] - 7s 145ms/step - loss: 0.0024 - val_loss: 0.0025\n",
      "Epoch 16/20\n",
      "45/45 [==============================] - 7s 146ms/step - loss: 0.0024 - val_loss: 0.0025\n",
      "Epoch 17/20\n",
      "45/45 [==============================] - 7s 145ms/step - loss: 0.0024 - val_loss: 0.0025\n",
      "Epoch 18/20\n",
      "45/45 [==============================] - 7s 147ms/step - loss: 0.0024 - val_loss: 0.0025\n",
      "Epoch 19/20\n",
      "45/45 [==============================] - 7s 146ms/step - loss: 0.0024 - val_loss: 0.0025\n",
      "Epoch 20/20\n",
      "45/45 [==============================] - 7s 150ms/step - loss: 0.0024 - val_loss: 0.0025\n"
     ]
    }
   ],
   "source": [
    "\n",
    "if mode == 'train':\n",
    "    # train the autoencoder\n",
    "    hist = model.fit(swe_train_data, epochs=num_epochs, batch_size=batch_size, validation_split=0.1)\n",
    "    model.save_weights('vae_cnn')\n"
   ]
  },
  {
   "cell_type": "code",
   "execution_count": 110,
   "metadata": {},
   "outputs": [
    {
     "data": {
      "image/png": "[encoded data removed]",
      "text/plain": [
       "<Figure size 432x288 with 1 Axes>"
      ]
     },
     "metadata": {
      "needs_background": "light"
     },
     "output_type": "display_data"
    }
   ],
   "source": [
    "if mode == 'train':\n",
    "     fig1 = plt.figure()\n",
    "     plt.plot(hist.history['loss'],'r')\n",
    "     plt.plot(hist.history['val_loss'])"
   ]
  },
  {
   "cell_type": "code",
   "execution_count": 111,
   "metadata": {},
   "outputs": [
    {
     "ename": "NameError",
     "evalue": "name 'preproc' is not defined",
     "output_type": "error",
     "traceback": [
      "\u001b[0;31m---------------------------------------------------------------------------\u001b[0m",
      "\u001b[0;31mNameError\u001b[0m                                 Traceback (most recent call last)",
      "\u001b[0;32m<ipython-input-111-e4bbb9bb923a>\u001b[0m in \u001b[0;36m<module>\u001b[0;34m\u001b[0m\n\u001b[1;32m      4\u001b[0m \u001b[0;32mfor\u001b[0m \u001b[0mtime\u001b[0m \u001b[0;32min\u001b[0m \u001b[0mrange\u001b[0m\u001b[0;34m(\u001b[0m\u001b[0;36m0\u001b[0m\u001b[0;34m,\u001b[0m\u001b[0;36m10\u001b[0m\u001b[0;34m)\u001b[0m\u001b[0;34m:\u001b[0m\u001b[0;34m\u001b[0m\u001b[0;34m\u001b[0m\u001b[0m\n\u001b[1;32m      5\u001b[0m     \u001b[0mrecoded\u001b[0m \u001b[0;34m=\u001b[0m \u001b[0mmodel\u001b[0m\u001b[0;34m.\u001b[0m\u001b[0mpredict\u001b[0m\u001b[0;34m(\u001b[0m\u001b[0mswe_valid\u001b[0m\u001b[0;34m[\u001b[0m\u001b[0mtime\u001b[0m\u001b[0;34m:\u001b[0m\u001b[0mtime\u001b[0m\u001b[0;34m+\u001b[0m\u001b[0;36m1\u001b[0m\u001b[0;34m,\u001b[0m\u001b[0;34m:\u001b[0m\u001b[0;34m,\u001b[0m\u001b[0;34m:\u001b[0m\u001b[0;34m,\u001b[0m\u001b[0;34m:\u001b[0m\u001b[0;34m]\u001b[0m\u001b[0;34m)\u001b[0m\u001b[0;34m\u001b[0m\u001b[0;34m\u001b[0m\u001b[0m\n\u001b[0;32m----> 6\u001b[0;31m     \u001b[0mtrue\u001b[0m \u001b[0;34m=\u001b[0m \u001b[0mpreproc\u001b[0m\u001b[0;34m.\u001b[0m\u001b[0minverse_transform\u001b[0m\u001b[0;34m(\u001b[0m\u001b[0mswe_valid\u001b[0m\u001b[0;34m[\u001b[0m\u001b[0mtime\u001b[0m\u001b[0;34m:\u001b[0m\u001b[0mtime\u001b[0m\u001b[0;34m+\u001b[0m\u001b[0;36m1\u001b[0m\u001b[0;34m,\u001b[0m\u001b[0;34m:\u001b[0m\u001b[0;34m,\u001b[0m\u001b[0;34m:\u001b[0m\u001b[0;34m,\u001b[0m\u001b[0;34m:\u001b[0m\u001b[0;34m]\u001b[0m\u001b[0;34m.\u001b[0m\u001b[0mreshape\u001b[0m\u001b[0;34m(\u001b[0m\u001b[0;36m1\u001b[0m\u001b[0;34m,\u001b[0m\u001b[0;36m4096\u001b[0m\u001b[0;34m)\u001b[0m\u001b[0;34m)\u001b[0m\u001b[0;34m.\u001b[0m\u001b[0mreshape\u001b[0m\u001b[0;34m(\u001b[0m\u001b[0;36m64\u001b[0m\u001b[0;34m,\u001b[0m\u001b[0;36m64\u001b[0m\u001b[0;34m)\u001b[0m\u001b[0;34m\u001b[0m\u001b[0;34m\u001b[0m\u001b[0m\n\u001b[0m\u001b[1;32m      7\u001b[0m     \u001b[0mrecoded\u001b[0m \u001b[0;34m=\u001b[0m \u001b[0mpreproc\u001b[0m\u001b[0;34m.\u001b[0m\u001b[0minverse_transform\u001b[0m\u001b[0;34m(\u001b[0m\u001b[0mrecoded\u001b[0m\u001b[0;34m.\u001b[0m\u001b[0mreshape\u001b[0m\u001b[0;34m(\u001b[0m\u001b[0;36m1\u001b[0m\u001b[0;34m,\u001b[0m\u001b[0;36m4096\u001b[0m\u001b[0;34m)\u001b[0m\u001b[0;34m)\u001b[0m\u001b[0;34m.\u001b[0m\u001b[0mreshape\u001b[0m\u001b[0;34m(\u001b[0m\u001b[0;36m64\u001b[0m\u001b[0;34m,\u001b[0m\u001b[0;36m64\u001b[0m\u001b[0;34m)\u001b[0m\u001b[0;34m\u001b[0m\u001b[0;34m\u001b[0m\u001b[0m\n\u001b[1;32m      8\u001b[0m \u001b[0;34m\u001b[0m\u001b[0m\n",
      "\u001b[0;31mNameError\u001b[0m: name 'preproc' is not defined"
     ]
    }
   ],
   "source": [
    "model.load_weights('vae_cnn')\n",
    "\n",
    "# Check for validation\n",
    "for time in range(0,10):\n",
    "    recoded = model.predict(swe_valid[time:time+1,:,:,:])\n",
    "    true = preproc.inverse_transform(swe_valid[time:time+1,:,:,:].reshape(1,4096)).reshape(64,64)\n",
    "    recoded = preproc.inverse_transform(recoded.reshape(1,4096)).reshape(64,64)\n",
    "\n",
    "    fig, ax = plt.subplots(nrows=1,ncols=2,figsize=(6,6))\n",
    "    cs1 = ax[0].imshow(true,label='input')\n",
    "    cs2 = ax[1].imshow(recoded,label='decoded')\n",
    "\n",
    "    for i in range(2):\n",
    "        ax[i].set_xlabel('x')\n",
    "        ax[i].set_ylabel('y')\n",
    "            \n",
    "    fig.colorbar(cs1,ax=ax[0],fraction=0.046, pad=0.04)\n",
    "    fig.colorbar(cs2,ax=ax[1],fraction=0.046, pad=0.04)\n",
    "    ax[0].set_title(r'True $q_1$')\n",
    "    ax[1].set_title(r'Reconstructed $q_1$')\n",
    "    plt.subplots_adjust(wspace=0.5,hspace=-0.3)\n",
    "    plt.tight_layout()\n",
    "    plt.show()"
   ]
  },
  {
   "cell_type": "code",
   "execution_count": 112,
   "metadata": {},
   "outputs": [
    {
     "data": {
      "text/plain": [
       "<tensorflow.python.training.tracking.util.CheckpointLoadStatus at 0x13e0aefd0>"
      ]
     },
     "execution_count": 112,
     "metadata": {},
     "output_type": "execute_result"
    }
   ],
   "source": [
    "model.load_weights('vae_cnn')\n",
    "\n",
    "#recoded = model.predict(swe_valid[time:time+1,:,:,:])"
   ]
  },
  {
   "cell_type": "code",
   "execution_count": 114,
   "metadata": {},
   "outputs": [],
   "source": [
    "generator = model.predict(swe_valid[0:2])"
   ]
  },
  {
   "cell_type": "code",
   "execution_count": 115,
   "metadata": {},
   "outputs": [
    {
     "name": "stdout",
     "output_type": "stream",
     "text": [
      "(2, 64, 64, 1)\n"
     ]
    }
   ],
   "source": [
    "print(generator.shape)"
   ]
  },
  {
   "cell_type": "code",
   "execution_count": 116,
   "metadata": {},
   "outputs": [
    {
     "data": {
      "text/plain": [
       "<matplotlib.image.AxesImage at 0x13d47cfd0>"
      ]
     },
     "execution_count": 116,
     "metadata": {},
     "output_type": "execute_result"
    },
    {
     "data": {
      "image/png": "[encoded data removed]",
      "text/plain": [
       "<Figure size 432x288 with 1 Axes>"
      ]
     },
     "metadata": {
      "needs_background": "light"
     },
     "output_type": "display_data"
    },
    {
     "data": {
      "image/png": "[encoded data removed]",
      "text/plain": [
       "<Figure size 432x288 with 1 Axes>"
      ]
     },
     "metadata": {
      "needs_background": "light"
     },
     "output_type": "display_data"
    }
   ],
   "source": [
    "plt.imshow(generator[1,:,:,0])\n",
    "plt.figure()\n",
    "plt.imshow(swe_valid[1,:,:,0])"
   ]
  },
  {
   "cell_type": "code",
   "execution_count": 117,
   "metadata": {},
   "outputs": [
    {
     "data": {
      "image/png": "[encoded data removed]",
      "text/plain": [
       "<Figure size 432x288 with 1 Axes>"
      ]
     },
     "metadata": {
      "needs_background": "light"
     },
     "output_type": "display_data"
    }
   ],
   "source": [
    "\n",
    "\n",
    "encoded_t_arr = K.eval(encoder(swe_train[:,:,:,:].astype('float32')))[0]\n",
    "encoded_v_arr = K.eval(encoder(swe_valid[:,:,:,:].astype('float32')))[0]\n",
    "encoded_t = encoded_t_arr\n",
    "encoded_v = encoded_v_arr\n",
    "\n",
    "\n",
    "\n",
    "plt.figure()\n",
    "plt.plot(encoded_t[0:10,0],label='Dimension 1')\n",
    "plt.plot(encoded_t[0:10,1],label='Dimension 2')\n",
    "plt.plot(encoded_t[0:10,2],label='Dimension 3')\n",
    "plt.plot(encoded_t[0:10,3],label='Dimension 4')\n",
    "plt.legend()\n",
    "plt.show()\n",
    "\n",
    "encoded = np.concatenate((encoded_t,encoded_v),axis=0)\n",
    "np.save('VAE_Coefficient_Training_Data.npy',encoded)\n"
   ]
  },
  {
   "cell_type": "code",
   "execution_count": null,
   "metadata": {},
   "outputs": [],
   "source": []
  },
  {
   "cell_type": "code",
   "execution_count": null,
   "metadata": {},
   "outputs": [],
   "source": []
  }
 ],
 "metadata": {
  "anaconda-cloud": {},
  "celltoolbar": "Slideshow",
  "kernelspec": {
   "display_name": "Python 3",
   "language": "python",
   "name": "python3"
  },
  "language_info": {
   "codemirror_mode": {
    "name": "ipython",
    "version": 3
   },
   "file_extension": ".py",
   "mimetype": "text/x-python",
   "name": "python",
   "nbconvert_exporter": "python",
   "pygments_lexer": "ipython3",
   "version": "3.7.3"
  }
 },
 "nbformat": 4,
 "nbformat_minor": 2
}
