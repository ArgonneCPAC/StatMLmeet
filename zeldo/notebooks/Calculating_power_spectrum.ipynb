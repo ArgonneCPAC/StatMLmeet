{
 "cells": [
  {
   "cell_type": "code",
   "execution_count": 22,
   "metadata": {},
   "outputs": [],
   "source": [
    "import numpy as np\n",
    "import matplotlib.pylab as plt\n"
   ]
  },
  {
   "cell_type": "code",
   "execution_count": 23,
   "metadata": {},
   "outputs": [
    {
     "name": "stdout",
     "output_type": "stream",
     "text": [
      "(16384,)\n",
      "image dimension = 128\n",
      "power spectrum binning=0.04677216729723518\n",
      "[0.         0.29387819 0.58775639 0.88163458 1.17551278 1.46939097\n",
      " 1.76326917 2.05714736 2.35102555 2.64490375 2.93878194 3.23266014\n",
      " 3.52653833 3.82041653 4.11429472 4.40817292 4.70205111 4.9959293\n",
      " 5.2898075  5.58368569 5.87756389 6.17144208 6.46532028 6.75919847\n",
      " 7.05307666 7.34695486 7.64083305 7.93471125 8.22858944 8.52246764]\n"
     ]
    },
    {
     "name": "stderr",
     "output_type": "stream",
     "text": [
      "/Users/dongxiaofeng/anaconda3/lib/python3.7/site-packages/ipykernel_launcher.py:74: ComplexWarning: Casting complex values to real discards the imaginary part\n",
      "/Users/dongxiaofeng/anaconda3/lib/python3.7/site-packages/ipykernel_launcher.py:91: RuntimeWarning: invalid value encountered in true_divide\n",
      "/Users/dongxiaofeng/anaconda3/lib/python3.7/site-packages/ipykernel_launcher.py:95: RuntimeWarning: invalid value encountered in true_divide\n"
     ]
    },
    {
     "data": {
      "text/plain": [
       "[<matplotlib.lines.Line2D at 0x7fa3bedc95c0>]"
      ]
     },
     "execution_count": 23,
     "metadata": {},
     "output_type": "execute_result"
    },
    {
     "data": {
      "image/png": "[encoded data removed]",
      "text/plain": [
       "<Figure size 432x288 with 1 Axes>"
      ]
     },
     "metadata": {
      "needs_background": "light"
     },
     "output_type": "display_data"
    },
    {
     "data": {
      "image/png": "[encoded data removed]",
      "text/plain": [
       "<Figure size 432x288 with 1 Axes>"
      ]
     },
     "metadata": {
      "needs_background": "light"
     },
     "output_type": "display_data"
    }
   ],
   "source": [
    "#### FILE PATH ##################\n",
    "filenumber=0\n",
    "L = 128   # Dimension of simulation box\n",
    "\n",
    "path = \"./num_\" + str(filenumber) + \".npy\"   # Path to the input file\n",
    "\n",
    "\n",
    "#### LOAD DATA #################\n",
    "data = np.load(path)\n",
    "\n",
    "img = data[0]       \n",
    "\n",
    "\n",
    "#plt.figure()\n",
    "#plt.imshow(img)\n",
    "\n",
    "\n",
    "\n",
    "######## FOURIER TRANSFORM OVERDENSITY FIELD ############\n",
    "overdensity = img - np.ones(img.shape[0],dtype=float)*np.average(img)\n",
    "    #print(overdensity.shape)\n",
    "\n",
    "#TRY RFFT2 LATER\n",
    "\n",
    "fft = np.fft.fft2(overdensity)\n",
    "flat = fft.flatten()\n",
    "\n",
    "print(flat.shape)\n",
    "\n",
    "freqs = np.fft.fftfreq(img.shape[0])\n",
    "#freqs.shape\n",
    "#print(freqs)\n",
    "\n",
    "dim = img.shape[0]\n",
    "print(\"image dimension = \" + str(dim))\n",
    "\n",
    "\n",
    "##### SETTING BINNING PARAMETERS ##########\n",
    "bin_dim = 30\n",
    "binning = (np.amax(freqs)-np.amin(freqs))*np.sqrt(2)/bin_dim\n",
    "print(\"power spectrum binning=\"+str(binning))\n",
    "\n",
    "\n",
    "pow_spec = np.zeros(bin_dim)\n",
    "cnt_spec = np.zeros(bin_dim)\n",
    "k_spec = np.zeros(bin_dim)\n",
    "\n",
    "#pow_comp = np.zeros(20)\n",
    "#cnt_comp = np.zeros(20)\n",
    "#k_comp = np.zeros(20)\n",
    "\n",
    "freq_ax=np.arange(bin_dim)*binning*np.pi*2\n",
    "print(freq_ax)\n",
    "\n",
    "\n",
    "for i in range(0,dim):\n",
    "        for j in range(0,dim):\n",
    "              k_val = np.sqrt((freqs[i]-freqs[0])**2+(freqs[j]-freqs[0])**2) #### k_val is the magnitude of |k|\n",
    "                \n",
    "        #      print(\"i = \" + str(i) + \"  j= \" + str(j) + \"  distance = \" + str(distance))\n",
    "        #      print(\"binning result is \" + str(int(distance/binning)) )\n",
    "        #      print(\"binning freq is \" + str(freq_ax[int(distance/binning)]))\n",
    "        \n",
    "              if int(k_val/binning)> (bin_dim-1) :  \n",
    "                    print(\"k_value=\"+ str(distance) + \",error!\")\n",
    "              #elif distance == 0:\n",
    "              #      print(\"distance=0!\")\n",
    "              elif np.digitize(k_val*np.pi*2,pk[:,0]) == 0:\n",
    "                    continue\n",
    "                 #   pow_comp[0]+=fft[i][j]*np.conj(fft[i][j])/(128*128*128*128)\n",
    "                 #   cnt_comp[0]+=1\n",
    "                    \n",
    "              else:\n",
    "                    pow_spec[int(k_val/binning)]+=fft[i][j]*np.conj(fft[i][j])/(L*L*L*L)\n",
    "                    ## one L^2 is brought by Fourier Transformation, the other by Power spectra definition.\n",
    "                    \n",
    "                    \n",
    "                    cnt_spec[int(k_val/binning)]+=1\n",
    "                    k_spec[int(k_val/binning)]+=k_val*2*np.pi  \n",
    "                    \n",
    "                    ## The default numpy frequency is different from physical definition by a factor of 2*pi.\n",
    "                    ## Thus we have to compensate it here.\n",
    "                    \n",
    "                    \n",
    "                    \n",
    "                    #pow_comp[np.digitize(k_val*np.pi*2,pk[:,0])-1]+=fft[i][j]*np.conj(fft[i][j])/(L*L*L*L)\n",
    "                    #cnt_comp[np.digitize(k_val*np.pi*2,pk[:,0])-1]+=1\n",
    "                    #k_comp[np.digitize(k_val*np.pi*2,pk[:,0])-1]+=distance*2*np.pi\n",
    "                    \n",
    "\n",
    "\n",
    "pow_spec = np.divide(pow_spec,cnt_spec)\n",
    "\n",
    "#pow_comp = np.divide(pow_comp,cnt_comp)\n",
    "\n",
    "k_spec = np.divide(k_spec,cnt_spec)\n",
    "\n",
    "\n",
    "plt.loglog(k_spec,pow_spec,label=\"t=\"+str(times[k]),color=colors[k])\n",
    "\n",
    "    \n",
    "    \n",
    "    \n",
    "    \n",
    "    \n",
    "###  Double checking with Micheal's result #################   \n",
    "pks = np.load('./Mic_data.npz')\n",
    "pk = pks['i=0,j=0']\n",
    "fig, ax = plt.subplots()\n",
    "ax.plot(pk[:, 0], pk[:, 1])\n",
    "ax.set(xscale='log', yscale='log')\n",
    "ax.plot(k_spec,pow_spec,label=\"t=\"+str(times[k]),color=colors[k])\n",
    "ax.plot(k_comp,pow_comp,label=\"t=\"+str(times[k]),color=colors[k])\n"
   ]
  },
  {
   "cell_type": "code",
   "execution_count": null,
   "metadata": {},
   "outputs": [],
   "source": []
  },
  {
   "cell_type": "code",
   "execution_count": 6,
   "metadata": {},
   "outputs": [],
   "source": [
    "times=[0.001,0.0015,0.0023,0.0036,0.0056,0.0087,0.0135,0.020,0.032,0.05]\n",
    "from matplotlib.pyplot import figure\n",
    "#plt.figure(figsize=(16,12))\n",
    "\n",
    "colors=['#00E5D8','#04CBD5','#09B2D2','#0D98CF','#127FCC','#1665CA','#1B4CC7','#1F32C4','#2419C1','#2900BF']\n"
   ]
  },
  {
   "cell_type": "code",
   "execution_count": null,
   "metadata": {},
   "outputs": [],
   "source": []
  }
 ],
 "metadata": {
  "kernelspec": {
   "display_name": "Python 3",
   "language": "python",
   "name": "python3"
  },
  "language_info": {
   "codemirror_mode": {
    "name": "ipython",
    "version": 3
   },
   "file_extension": ".py",
   "mimetype": "text/x-python",
   "name": "python",
   "nbconvert_exporter": "python",
   "pygments_lexer": "ipython3",
   "version": "3.7.3"
  }
 },
 "nbformat": 4,
 "nbformat_minor": 2
}
